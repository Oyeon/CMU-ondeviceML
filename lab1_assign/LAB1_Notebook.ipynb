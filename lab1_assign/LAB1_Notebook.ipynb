{
 "cells": [
  {
   "cell_type": "markdown",
   "id": "fbbf25a8-1a55-4146-aa8a-32d2cf383e81",
   "metadata": {},
   "source": [
    "\n",
    "## Data Load\n"
   ]
  },
  {
   "cell_type": "code",
   "execution_count": 3,
   "id": "d7e37fb4-da0e-4cbc-b753-956d7e293dc5",
   "metadata": {
    "tags": []
   },
   "outputs": [
    {
     "name": "stdout",
     "output_type": "stream",
     "text": [
      "Batch images shape: torch.Size([64, 1, 28, 28])\n",
      "Batch labels shape: torch.Size([64])\n"
     ]
    }
   ],
   "source": [
    "import torch\n",
    "from torch.utils.data import Dataset, DataLoader\n",
    "import pandas as pd\n",
    "import numpy as np\n",
    "from torchvision import transforms\n",
    "\n",
    "# Custom dataset class\n",
    "class CustomMNISTDataset(Dataset):\n",
    "    def __init__(self, csv_file, transform=None):\n",
    "        # Load the CSV file\n",
    "        self.data = pd.read_csv(csv_file)\n",
    "        self.transform = transform\n",
    "\n",
    "        # Assuming the first column contains labels and the rest are pixel values\n",
    "        self.labels = self.data.iloc[:, 0].values  # First column is the label\n",
    "        self.images = self.data.iloc[:, 1:].values.astype('float32')  # Remaining columns are pixel values\n",
    "\n",
    "        # Normalize the pixel values (subtract the mean and divide by std dev)\n",
    "        # Calculate mean and std for normalization\n",
    "        self.mean = np.mean(self.images)\n",
    "        self.std_dev = np.std(self.images)\n",
    "\n",
    "        # Normalize using the calculated mean and std\n",
    "        self.images = (self.images - self.mean) / self.std_dev\n",
    "\n",
    "        # Reshape the images to 28x28\n",
    "        self.images = self.images.reshape(-1, 28, 28)\n",
    "\n",
    "    def __len__(self):\n",
    "        return len(self.data)\n",
    "\n",
    "    def __getitem__(self, idx):\n",
    "        image = self.images[idx]\n",
    "        label = self.labels[idx]\n",
    "\n",
    "        if self.transform:\n",
    "            # Apply transformations (if any)\n",
    "            image = self.transform(image)\n",
    "\n",
    "        return image, label\n",
    "\n",
    "# Define the transformations (you can modify them as needed)\n",
    "transform = transforms.Compose([\n",
    "    transforms.ToTensor(),\n",
    "    transforms.Normalize((0.5,), (0.5,))  # Additional normalization to center data around 0\n",
    "])\n",
    "\n",
    "# Initialize the custom dataset using the CSV file path\n",
    "csv_file_path = './datasets/mnist_train.csv'\n",
    "csv_file_path2 = './datasets/mnist_test.csv'\n",
    "mnist_dataset = CustomMNISTDataset(csv_file_path, transform=transform)\n",
    "val_mnist_dataset = CustomMNISTDataset(csv_file_path2, transform=transform)\n",
    "\n",
    "# Use DataLoader for batching and shuffling\n",
    "train_loader = DataLoader(mnist_dataset, batch_size=64, shuffle=True)\n",
    "val_loader = DataLoader(val_mnist_dataset, batch_size=10, shuffle=True)\n",
    "\n",
    "\n",
    "# Example: Iterating through the dataset\n",
    "for images, labels in train_loader:\n",
    "    print(f'Batch images shape: {images.shape}')\n",
    "    print(f'Batch labels shape: {labels.shape}')\n",
    "    break\n"
   ]
  },
  {
   "cell_type": "code",
   "execution_count": null,
   "id": "f893b636-0506-43ea-9d7f-4025684a95c6",
   "metadata": {},
   "outputs": [],
   "source": []
  },
  {
   "cell_type": "code",
   "execution_count": null,
   "id": "842578f2-812e-42d7-a0f2-6da396e3ff41",
   "metadata": {},
   "outputs": [],
   "source": []
  },
  {
   "cell_type": "code",
   "execution_count": null,
   "id": "c753b3ab-6ecc-49eb-9a9b-06449ece8b17",
   "metadata": {},
   "outputs": [],
   "source": []
  },
  {
   "cell_type": "code",
   "execution_count": null,
   "id": "09f65fd2-c219-4a75-8988-4116ab39ff3c",
   "metadata": {},
   "outputs": [],
   "source": []
  }
 ],
 "metadata": {
  "environment": {
   "kernel": "python3",
   "name": ".m121",
   "type": "gcloud",
   "uri": "us-docker.pkg.dev/deeplearning-platform-release/gcr.io/:m121"
  },
  "kernelspec": {
   "display_name": "Python 3 (Local)",
   "language": "python",
   "name": "python3"
  },
  "language_info": {
   "codemirror_mode": {
    "name": "ipython",
    "version": 3
   },
   "file_extension": ".py",
   "mimetype": "text/x-python",
   "name": "python",
   "nbconvert_exporter": "python",
   "pygments_lexer": "ipython3",
   "version": "3.10.14"
  }
 },
 "nbformat": 4,
 "nbformat_minor": 5
}
