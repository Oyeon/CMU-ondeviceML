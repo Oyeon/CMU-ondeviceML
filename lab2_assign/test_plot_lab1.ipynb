{
 "cells": [
  {
   "cell_type": "code",
   "execution_count": 19,
   "metadata": {},
   "outputs": [],
   "source": [
    "import torch\n",
    "from torch import nn, optim\n",
    "from torch.utils.data import DataLoader\n",
    "from torchvision import datasets\n",
    "from torch.utils.data import Dataset\n",
    "import torchvision.transforms as T\n",
    "from PIL import Image\n",
    "import pandas as pd\n",
    "import time\n",
    "import sys\n",
    "import matplotlib.pyplot as plt\n",
    "import numpy as np"
   ]
  },
  {
   "cell_type": "markdown",
   "metadata": {},
   "source": [
    "Q3.2 Define constants and experimental setting"
   ]
  },
  {
   "cell_type": "code",
   "execution_count": 20,
   "metadata": {},
   "outputs": [
    {
     "name": "stdout",
     "output_type": "stream",
     "text": [
      "Using device cpu\n",
      "Python version: 3.11.9 | packaged by Anaconda, Inc. | (main, Apr 19 2024, 16:40:41) [MSC v.1916 64 bit (AMD64)]\n",
      "Pytorch version: 2.2.0+cpu\n",
      "Processor 11th Gen Intel(R) Core(TM) i7-11800H @ 2.30GHz   2.30 GHz\n",
      "Installed RAM\t32.0 GB (31.8 GB usable\n",
      "Windows 11 Home 64-bit operating system, x64-based processor\n"
     ]
    }
   ],
   "source": [
    "img_size = (28, 28)\n",
    "num_labels = 10\n",
    "learning_rate = 1e-3\n",
    "batch_size = 64\n",
    "num_layers = 2\n",
    "hidden_size = 1024\n",
    "num_epochs = 2\n",
    "# print(type(img_size[0] * img_size[1]))\n",
    "device = (\n",
    "    \"cuda\"\n",
    "    if torch.cuda.is_available()\n",
    "    else \"mps\"\n",
    "    if torch.backends.mps.is_available()\n",
    "    else \"cpu\"\n",
    ")\n",
    "\n",
    "print(f\"Using device {device}\")\n",
    "# print the python version \n",
    "print(f\"Python version: {sys.version}\")\n",
    "# and pytorch version\n",
    "print(f\"Pytorch version: {torch.__version__}\")\n",
    "# operating system\n",
    "print(\"Processor 11th Gen Intel(R) Core(TM) i7-11800H @ 2.30GHz   2.30 GHz\")\n",
    "print(\"Installed RAM\t32.0 GB (31.8 GB usable\")\n",
    "print(\"Windows 11 Home 64-bit operating system, x64-based processor\")"
   ]
  },
  {
   "cell_type": "markdown",
   "metadata": {},
   "source": [
    "Define dataset"
   ]
  },
  {
   "cell_type": "code",
   "execution_count": 21,
   "metadata": {},
   "outputs": [],
   "source": [
    "class CsvMNISTDataset(Dataset):\n",
    "    def __init__(self, csv_file, transform=None):\n",
    "        self.data_frame = pd.read_csv(csv_file)\n",
    "        self.transform = transform\n",
    "\n",
    "    def __len__(self):\n",
    "        return len(self.data_frame)\n",
    "    \n",
    "    def __getitem__(self, idx):\n",
    "        row = self.data_frame.iloc[idx]\n",
    "        label = row[0] # first value is the class label\n",
    "        img = row[1:].values.astype(\"uint8\").reshape(img_size) # reshape 28x28\n",
    "        img = Image.fromarray(img, mode=\"L\") # L = 8bit greyscale\n",
    "        if self.transform:\n",
    "            img = self.transform(img)\n",
    "        return img, label"
   ]
  },
  {
   "cell_type": "markdown",
   "metadata": {},
   "source": [
    "Define dataloader and preprocess inputs to have µ=0 and σ=1"
   ]
  },
  {
   "cell_type": "code",
   "execution_count": 22,
   "metadata": {},
   "outputs": [],
   "source": [
    "# Prepare data\n",
    "def get_data(batch_size):\n",
    "    transform_mnist = T.Compose([\n",
    "        T.ToTensor(), \n",
    "        T.Resize(min(img_size[0], img_size[1]), antialias=True), \n",
    "        T.CenterCrop(img_size), \n",
    "        T.Normalize(mean=[0], std=[1]) # Normalize to 0 mean and 1 std\n",
    "        ])\n",
    "    train_data = CsvMNISTDataset(\n",
    "        csv_file='./mnist_data/mnist_train.csv',\n",
    "        transform=transform_mnist,\n",
    "    )\n",
    "    test_data = CsvMNISTDataset(\n",
    "        csv_file='./mnist_data/mnist_test.csv',\n",
    "        transform=transform_mnist,\n",
    "    )\n",
    "\n",
    "    train_dataloader = DataLoader(train_data, batch_size=batch_size)\n",
    "    test_dataloader = DataLoader(test_data, batch_size=batch_size)\n",
    "    \n",
    "    for X, y in train_dataloader:\n",
    "        print(f\"Shape of X [B, C, H, W]: {X.shape}\") # [batch_size, channels, dims]\n",
    "        print(f\"Shape of y: {y.shape} {y.dtype}\")\n",
    "        break\n",
    "    \n",
    "    return train_dataloader, test_dataloader\n"
   ]
  },
  {
   "cell_type": "markdown",
   "metadata": {},
   "source": [
    "Define the model architecture according to\n",
    "\n",
    "| Hyperparameter    | Value |\n",
    "| --------- | --------- |\n",
    "| Learning Rate\t| 0.001 |\n",
    "| Batch Size | 64 |\n",
    "| Hidden Layers |\t2 |\n",
    "| Hidden Size\t| 1024 |\n",
    "| Epochs | 2 |\n",
    "\n",
    "Q2.3 Count the number of FLOPs in countflops()\n",
    "\n",
    "The NN is composed an input layer, two hidden layers, and an output layer. Since addition and multiplication count as one operation, the number of FLOPs in a FF single layer is the product of the input dimension squared times the output dimension. For example, the first layer takes an input of 784 and multiplies that with the first layer's 784 weights, doing this 1024 times. The output is of size 1024, where a bias term is added to each element. \n",
    "\n",
    "After those 1024 additions, the ReLU layer performs a comparison against 0 for each input to the layer and stores an output value depending on the result for a total of 2 x 1024 operations\n",
    "\n",
    "Symbolically, a FF network of a layer size [A, B] will have A x A x B + B FLOPs and 2B FLOPs for the ReLU layer, which is represented below.\n"
   ]
  },
  {
   "cell_type": "code",
   "execution_count": 74,
   "metadata": {},
   "outputs": [],
   "source": [
    "class MNISTNetwork(nn.Module):\n",
    "    def __init__(self, image_size=img_size, hidden_layers=2, hidden_size=1024, num_labels=10):\n",
    "        super(MNISTNetwork, self).__init__()\n",
    "        # First layer input size must be the dimension of the image\n",
    "        self.flatten = nn.Flatten()\n",
    "        # Define NN layers based on the number of layers and hidden size\n",
    "        flatten_size = image_size[0] * image_size[1] # int\n",
    "        self.NN_layers = []\n",
    "        self.NN_layers.append(flatten_size) # first element is input\n",
    "        for i in range(hidden_layers):\n",
    "            self.NN_layers.append(hidden_size)\n",
    "        self.NN_layers.append(num_labels) # output layer size\n",
    "        NN = []\n",
    "        for i in range(len(self.NN_layers)-1):\n",
    "            # [784, 1024] -> ReLU -> [1024, 1024] -> ReLU -> [1024, 10]\n",
    "            NN.append(nn.Linear(self.NN_layers[i],self.NN_layers[i+1]))\n",
    "            if i < (hidden_layers):\n",
    "                NN.append(nn.ReLU())\n",
    "        self.sequential = nn.Sequential(*NN)\n",
    "                \n",
    "    def forward(self, x):\n",
    "        x = self.flatten(x)\n",
    "        logits = self.sequential(x)\n",
    "        return logits\n",
    "    \n",
    "    def countflops(self):\n",
    "        # Count FLOPs per layer [784,1024,1024,10]\n",
    "        # Linear layer: Ax + b\n",
    "        # ReLU: b\n",
    "        # dim(A)[0] * dim(A)[1] + dim(B) + dim(B)\n",
    "        flop_count = 0\n",
    "        for i in range(len(self.NN_layers)-1): # 0 to 2\n",
    "            A = self.NN_layers[i]\n",
    "            B = self.NN_layers[i+1]\n",
    "            flop_count += A*A*B+B # linear layer\n",
    "            if i < (len(self.NN_layers)-2): # before output layer no ReLU\n",
    "                flop_count += 2*B\n",
    "        print(f\"FLOPs: {flop_count}\")\n",
    "        return flop_count"
   ]
  },
  {
   "cell_type": "markdown",
   "metadata": {},
   "source": [
    "Q2.1 Define training routine and measure training and inference latencies"
   ]
  },
  {
   "cell_type": "code",
   "execution_count": 44,
   "metadata": {},
   "outputs": [],
   "source": [
    "def train_one_epoch(dataloader, model, loss_fn, optimizer, cur_epoch):\n",
    "    size = len(dataloader.dataset)\n",
    "    batch_size = dataloader.batch_size\n",
    "    model.train()\n",
    "    start_time = time.time()\n",
    "    for batch, (X, y) in enumerate(dataloader):\n",
    "        X, y = X.to(device), y.to(device)\n",
    "        pred = model(X)\n",
    "        loss = loss_fn(pred, y)\n",
    "        loss.backward()\n",
    "        optimizer.step()\n",
    "        optimizer.zero_grad()\n",
    "        loss = loss.item() / batch_size\n",
    "        current = (batch + 1) * dataloader.batch_size # number of examples seen in this epoch\n",
    "        if batch % 500 == 0:\n",
    "            print(f\"Train loss = {loss:>7f}  [{current:>5d}/{size:>5d}]\")\n",
    "    end_time = time.time()\n",
    "    train_epoch_duration = end_time - start_time\n",
    "    # print(f\"Epoch {cur_epoch+1} training duration: {train_epoch_duration}\")\n",
    "    return train_epoch_duration\n",
    "\n",
    "# Evaluate train accuracy and loss\n",
    "def evaluate(dataloader, dataname, model, loss_fn, cur_epoch):\n",
    "    size = len(dataloader.dataset)\n",
    "    #start_time = time.time()\n",
    "    model.eval()\n",
    "    avg_loss, correct = 0, 0\n",
    "    with torch.no_grad():\n",
    "        for X, y in dataloader:\n",
    "            X, y = X.to(device), y.to(device)\n",
    "            pred = model(X)\n",
    "            avg_loss += loss_fn(pred, y).item()\n",
    "            correct += (pred.argmax(1) == y).type(torch.float).sum().item()\n",
    "    #end_time = time.time()\n",
    "    avg_loss /= size\n",
    "    correct /= size\n",
    "    print(f\"{dataname} accuracy = {(100*correct):>0.1f}%, {dataname} avg loss = {avg_loss:>8f}\")\n",
    "\n",
    "def test_evaluate(dataloader, dataname, model, loss_fn):\n",
    "    size = len(dataloader.dataset)\n",
    "    model.eval()\n",
    "    avg_loss, correct, inference_latency, count = 0, 0, 0, 0\n",
    "    # discard first few iterations\n",
    "    warmup = 3\n",
    "    infer_times = []\n",
    "    with torch.no_grad():\n",
    "        for X, y in dataloader:\n",
    "            count += 1\n",
    "            num_samples = len(y)\n",
    "            if count > warmup:\n",
    "                start_time = time.time()\n",
    "            X, y = X.to(device), y.to(device)\n",
    "            pred = model(X)\n",
    "            avg_loss += loss_fn(pred, y).item()\n",
    "            correct += (pred.argmax(1) == y).type(torch.float).sum().item()\n",
    "            if count > warmup:\n",
    "                end_time = time.time()\n",
    "                inference_latency += (end_time - start_time)\n",
    "                infer_times.append((end_time-start_time)/num_samples) # 1 sample\n",
    "    avg_loss /= size\n",
    "    correct /= size\n",
    "    avg_time_per_inference = inference_latency / (size - num_samples*warmup)\n",
    "    print(f\"{dataname} accuracy = {(100*correct):>0.1f}%, {dataname} avg loss = {avg_loss:>8f}\")\n",
    "    print(f\"Average time per example classification: {avg_time_per_inference:>5f} seconds\")\n",
    "    return infer_times, avg_time_per_inference\n",
    "\n",
    "\n",
    "def new_evaluate(dataloader, dataname, model, loss_fn):\n",
    "    size = len(dataloader.dataset)\n",
    "    model.eval()\n",
    "    avg_loss, correct, inference_latency, count = 0, 0, 0, 0\n",
    "    # discard first few iterations\n",
    "    warmup = 3\n",
    "    infer_times = []\n",
    "    with torch.no_grad():\n",
    "        for X, y in dataloader:\n",
    "            count += 1\n",
    "            num_samples = len(y)\n",
    "            if count > warmup:\n",
    "                start_time = time.time()\n",
    "            X, y = X.to(device), y.to(device)\n",
    "            pred = model(X)\n",
    "            avg_loss += loss_fn(pred, y).item()\n",
    "            correct += (pred.argmax(1) == y).type(torch.float).sum().item()\n",
    "            if count > warmup:\n",
    "                end_time = time.time()\n",
    "                inference_latency += (end_time - start_time)\n",
    "                infer_times.append((end_time - start_time)/num_samples)\n",
    "    avg_loss /= size\n",
    "    correct /= size\n",
    "    avg_time_per_inference = inference_latency / (size - num_samples*warmup)\n",
    "    print(f\"{dataname} accuracy = {(100*correct):>0.1f}%, {dataname} avg loss = {avg_loss:>8f}\")\n",
    "    print(f\"Average time per example classification: {avg_time_per_inference} seconds\")\n",
    "    return correct*100, avg_time_per_inference # return accuracy"
   ]
  },
  {
   "cell_type": "markdown",
   "metadata": {},
   "source": [
    "Training configuration"
   ]
  },
  {
   "cell_type": "code",
   "execution_count": 25,
   "metadata": {},
   "outputs": [
    {
     "name": "stdout",
     "output_type": "stream",
     "text": [
      "Using cpu device\n",
      "Shape of X [B, C, H, W]: torch.Size([64, 1, 28, 28])\n",
      "Shape of y: torch.Size([64]) torch.int64\n",
      "MNISTNetwork(\n",
      "  (flatten): Flatten(start_dim=1, end_dim=-1)\n",
      "  (sequential): Sequential(\n",
      "    (0): Linear(in_features=784, out_features=1024, bias=True)\n",
      "    (1): ReLU()\n",
      "    (2): Linear(in_features=1024, out_features=1024, bias=True)\n",
      "    (3): ReLU()\n",
      "    (4): Linear(in_features=1024, out_features=10, bias=True)\n",
      "  )\n",
      ")\n"
     ]
    },
    {
     "name": "stderr",
     "output_type": "stream",
     "text": [
      "C:\\Users\\joncc\\AppData\\Local\\Temp\\ipykernel_42744\\2121649383.py:11: FutureWarning: Series.__getitem__ treating keys as positions is deprecated. In a future version, integer keys will always be treated as labels (consistent with DataFrame behavior). To access a value by position, use `ser.iloc[pos]`\n",
      "  label = row[0] # first value is the class label\n"
     ]
    }
   ],
   "source": [
    "print(f\"Using {device} device\")\n",
    "train_dataloader, test_dataloader = get_data(batch_size)\n",
    "train_size = len(train_dataloader.dataset)\n",
    "test_size = len(test_dataloader.dataset)\n",
    "model = MNISTNetwork().to(device)\n",
    "print(model)\n",
    "loss_fn = nn.CrossEntropyLoss() # no need to softmax as CrossEntropyLoss works on raw logits\n",
    "optimizer = torch.optim.Adam(model.parameters(), lr=learning_rate)"
   ]
  },
  {
   "cell_type": "markdown",
   "metadata": {},
   "source": [
    "Q3.1 Print training progress and accuracy\n",
    "\n",
    "The training accuracy is shown below with the run's corresponding hyperparameters."
   ]
  },
  {
   "cell_type": "code",
   "execution_count": 27,
   "metadata": {},
   "outputs": [
    {
     "name": "stdout",
     "output_type": "stream",
     "text": [
      "\n",
      "Epoch 1\n",
      "-------------------------------\n",
      "Train loss = 0.035958  [   64/59999]\n"
     ]
    },
    {
     "name": "stderr",
     "output_type": "stream",
     "text": [
      "C:\\Users\\joncc\\AppData\\Local\\Temp\\ipykernel_42744\\2121649383.py:11: FutureWarning: Series.__getitem__ treating keys as positions is deprecated. In a future version, integer keys will always be treated as labels (consistent with DataFrame behavior). To access a value by position, use `ser.iloc[pos]`\n",
      "  label = row[0] # first value is the class label\n"
     ]
    },
    {
     "name": "stdout",
     "output_type": "stream",
     "text": [
      "Train loss = 0.004992  [32064/59999]\n",
      "Train accuracy = 95.8%, Train avg loss = 0.002187\n",
      "Test accuracy = 95.2%, Test avg loss = 0.002409\n",
      "Average time per example classification: 0.000028 seconds\n",
      "\n",
      "Epoch 2\n",
      "-------------------------------\n",
      "Train loss = 0.001986  [   64/59999]\n",
      "Train loss = 0.002061  [32064/59999]\n",
      "Train accuracy = 97.9%, Train avg loss = 0.000979\n",
      "Test accuracy = 97.1%, Test avg loss = 0.001481\n",
      "Average time per example classification: 0.000027 seconds\n"
     ]
    }
   ],
   "source": [
    "# Main training \n",
    "epoch_train_times = []\n",
    "epoch_test_times = []\n",
    "average_inference_time = []\n",
    "for t in range(num_epochs):\n",
    "    print(f\"\\nEpoch {t+1}\\n-------------------------------\")\n",
    "    train_duration = train_one_epoch(train_dataloader, model, loss_fn, optimizer, t)\n",
    "    epoch_train_times.append(train_duration)\n",
    "    evaluate(train_dataloader, \"Train\", model, loss_fn, t)\n",
    "    epoch_test, avg = test_evaluate(test_dataloader, \"Test\", model, loss_fn)\n",
    "    epoch_test_times.append(epoch_test)\n",
    "    average_inference_time.append(avg)\n",
    "# Save the model\n",
    "torch.save(model.state_dict(), \"MNIST_model.pth\")\n",
    "# print(\"Saved PyTorch Model State to MNIST_model.pth\")"
   ]
  },
  {
   "cell_type": "code",
   "execution_count": 35,
   "metadata": {},
   "outputs": [
    {
     "name": "stdout",
     "output_type": "stream",
     "text": [
      "Hyperparameters: learning_rate=0.001, \n",
      " batch_size=64, num_layers=2, hidden_size=1024, num_epochs=2\n"
     ]
    }
   ],
   "source": [
    "print(f\"Hyperparameters: learning_rate={learning_rate}, \\n batch_size={batch_size}, num_layers={num_layers}, hidden_size={hidden_size}, num_epochs={num_epochs}\")"
   ]
  },
  {
   "cell_type": "markdown",
   "metadata": {},
   "source": [
    "Q3.3 Print the training time per epoch and inference latency per example"
   ]
  },
  {
   "cell_type": "code",
   "execution_count": 36,
   "metadata": {},
   "outputs": [
    {
     "name": "stdout",
     "output_type": "stream",
     "text": [
      "Epoch 1 training duration: 40.264074\n",
      "Epoch 2 training duration: 43.188599\n",
      "Training time per epoch variance 2.138212\n"
     ]
    }
   ],
   "source": [
    "for t in range(num_epochs):\n",
    "    print(f\"Epoch {t+1} training duration: {epoch_train_times[t]:>8f}\")\n",
    "print(f\"Training time per epoch variance {np.array(epoch_train_times).var():>8f}\")"
   ]
  },
  {
   "cell_type": "code",
   "execution_count": 31,
   "metadata": {},
   "outputs": [
    {
     "name": "stdout",
     "output_type": "stream",
     "text": [
      "Epoch 1 average inference time per sample: 0.000028\n",
      "Epoch 2 average inference time per sample: 0.000027\n",
      "Test time per sample variance for epoch 1: 9.536270365409232e-11 seconds\n",
      "Test time per sample variance for epoch 2: 4.997507011902881e-11 seconds\n",
      "Test time per sample max for epoch 1: 0.000083 seconds\n",
      "Test time per sample max for epoch 2: 0.000067 seconds\n",
      "Test time per sample min for epoch 1: 1.547485589981079e-05 seconds\n",
      "Test time per sample min for epoch 2: 1.5564262866973877e-05 seconds\n"
     ]
    }
   ],
   "source": [
    "for t in range(num_epochs):\n",
    "    print(f\"Epoch {t+1} average inference time per sample: {average_inference_time[t]:>8f}\")\n",
    "\n",
    "test_var1 = np.array(epoch_test_times[0]).var()\n",
    "test_var2 = np.array(epoch_test_times[1]).var()\n",
    "test_max1 = np.array(epoch_test_times[0]).max()\n",
    "test_max2 = np.array(epoch_test_times[1]).max()\n",
    "test_min1 = np.array(epoch_test_times[0]).min()\n",
    "test_min2 = np.array(epoch_test_times[1]).min()\n",
    "print(f\"Test time per sample variance for epoch 1: {test_var1} seconds\")\n",
    "print(f\"Test time per sample variance for epoch 2: {test_var2} seconds\")\n",
    "print(f\"Test time per sample max for epoch 1: {test_max1:>8f} seconds\")\n",
    "print(f\"Test time per sample max for epoch 2: {test_max2:>8f} seconds\")\n",
    "print(f\"Test time per sample min for epoch 1: {test_min1} seconds\")\n",
    "print(f\"Test time per sample min for epoch 2: {test_min2} seconds\")"
   ]
  },
  {
   "cell_type": "markdown",
   "metadata": {},
   "source": [
    "The variance for the inferences across the two epochs by default are as shown. What was suprising is that the second epoch has a larger min value for the per sample inference time. The first iteration of inference was not always slower than the others."
   ]
  },
  {
   "cell_type": "markdown",
   "metadata": {},
   "source": [
    "Q3.4 Count number of trainable parameters in a function\n",
    "\n",
    "The values line up as manually calculated as the weight matrices and the bias are the only trainable parameters in a feedforward neural network."
   ]
  },
  {
   "cell_type": "code",
   "execution_count": 32,
   "metadata": {},
   "outputs": [
    {
     "name": "stdout",
     "output_type": "stream",
     "text": [
      "Total number of model parameters: 1863690\n",
      "Manually computed total number of model parameters: 1863690\n"
     ]
    }
   ],
   "source": [
    "def count_parameters(model):\n",
    "\ttotal_params = sum(p.numel() for p in model.parameters() if p.requires_grad)\n",
    "\tprint(f\"Total number of model parameters: {total_params}\")\n",
    "\n",
    "count_parameters(model)\n",
    "\n",
    "# manually computing parameters\n",
    "# 784*1024 + 1024 + 1024*1024 + 1024 + 1024*10 + 10 = 1863690\n",
    "NN_layers = [784, 1024, 1024, 10]\n",
    "total_params = 0\n",
    "for i in range(len(NN_layers)-1):\n",
    "\ttotal_params += NN_layers[i] * NN_layers[i+1] + NN_layers[i+1]\n",
    "print(f'Manually computed total number of model parameters: {total_params}')"
   ]
  },
  {
   "cell_type": "markdown",
   "metadata": {},
   "source": [
    "Q3.5 Count flops"
   ]
  },
  {
   "cell_type": "code",
   "execution_count": 38,
   "metadata": {},
   "outputs": [
    {
     "name": "stdout",
     "output_type": "stream",
     "text": [
      "FLOPs: 1713641482\n"
     ]
    }
   ],
   "source": [
    "n_flops = model.countflops()"
   ]
  },
  {
   "cell_type": "markdown",
   "metadata": {},
   "source": [
    "Q3.6 Tune model hyperparameters\n",
    "\n",
    "The three plots to produce are generated with respect to training 4 various architectures for two epochs\n"
   ]
  },
  {
   "cell_type": "code",
   "execution_count": 115,
   "metadata": {},
   "outputs": [
    {
     "name": "stdout",
     "output_type": "stream",
     "text": [
      "Total number of model parameters: 814090\n",
      "Total number of model parameters: 1863690\n",
      "Total number of model parameters: 2913290\n",
      "Total number of model parameters: 3962890\n"
     ]
    }
   ],
   "source": [
    "hid_layers = [1,2,3,4]\n",
    "for nL in hid_layers:\n",
    "    model = MNISTNetwork(hidden_layers=nL).to(device)\n",
    "    count_parameters(model)"
   ]
  },
  {
   "cell_type": "code",
   "execution_count": 48,
   "metadata": {},
   "outputs": [
    {
     "name": "stdout",
     "output_type": "stream",
     "text": [
      "MNISTNetwork(\n",
      "  (flatten): Flatten(start_dim=1, end_dim=-1)\n",
      "  (sequential): Sequential(\n",
      "    (0): Linear(in_features=784, out_features=1024, bias=True)\n",
      "    (1): ReLU()\n",
      "    (2): Linear(in_features=1024, out_features=10, bias=True)\n",
      "  )\n",
      ")\n",
      "FLOPs: 639896586\n",
      "\n",
      "Epoch 1\n",
      "-------------------------------\n",
      "Train loss = 0.035784  [   64/59999]\n"
     ]
    },
    {
     "name": "stderr",
     "output_type": "stream",
     "text": [
      "C:\\Users\\joncc\\AppData\\Local\\Temp\\ipykernel_42744\\2121649383.py:11: FutureWarning: Series.__getitem__ treating keys as positions is deprecated. In a future version, integer keys will always be treated as labels (consistent with DataFrame behavior). To access a value by position, use `ser.iloc[pos]`\n",
      "  label = row[0] # first value is the class label\n"
     ]
    },
    {
     "name": "stdout",
     "output_type": "stream",
     "text": [
      "Train loss = 0.004485  [32064/59999]\n",
      "Train accuracy = 96.2%, Train avg loss = 0.001873\n",
      "\n",
      "Epoch 2\n",
      "-------------------------------\n",
      "Train loss = 0.001516  [   64/59999]\n",
      "Train loss = 0.001934  [32064/59999]\n",
      "Train accuracy = 97.6%, Train avg loss = 0.001131\n",
      "Test accuracy = 96.6%, Test avg loss = 0.001570\n",
      "Average time per example classification: 1.3778265734046535e-05 seconds\n",
      "MNISTNetwork(\n",
      "  (flatten): Flatten(start_dim=1, end_dim=-1)\n",
      "  (sequential): Sequential(\n",
      "    (0): Linear(in_features=784, out_features=1024, bias=True)\n",
      "    (1): ReLU()\n",
      "    (2): Linear(in_features=1024, out_features=1024, bias=True)\n",
      "    (3): ReLU()\n",
      "    (4): Linear(in_features=1024, out_features=1024, bias=True)\n",
      "    (5): ReLU()\n",
      "    (6): Linear(in_features=1024, out_features=10, bias=True)\n",
      "  )\n",
      ")\n",
      "FLOPs: 2787386378\n",
      "\n",
      "Epoch 1\n",
      "-------------------------------\n",
      "Train loss = 0.035937  [   64/59999]\n",
      "Train loss = 0.004060  [32064/59999]\n",
      "Train accuracy = 95.5%, Train avg loss = 0.002532\n",
      "\n",
      "Epoch 2\n",
      "-------------------------------\n",
      "Train loss = 0.000769  [   64/59999]\n",
      "Train loss = 0.002745  [32064/59999]\n",
      "Train accuracy = 96.0%, Train avg loss = 0.002239\n",
      "Test accuracy = 95.2%, Test avg loss = 0.002920\n",
      "Average time per example classification: 3.682309565161854e-05 seconds\n",
      "MNISTNetwork(\n",
      "  (flatten): Flatten(start_dim=1, end_dim=-1)\n",
      "  (sequential): Sequential(\n",
      "    (0): Linear(in_features=784, out_features=1024, bias=True)\n",
      "    (1): ReLU()\n",
      "    (2): Linear(in_features=1024, out_features=1024, bias=True)\n",
      "    (3): ReLU()\n",
      "    (4): Linear(in_features=1024, out_features=1024, bias=True)\n",
      "    (5): ReLU()\n",
      "    (6): Linear(in_features=1024, out_features=1024, bias=True)\n",
      "    (7): ReLU()\n",
      "    (8): Linear(in_features=1024, out_features=10, bias=True)\n",
      "  )\n",
      ")\n",
      "FLOPs: 3861131274\n",
      "\n",
      "Epoch 1\n",
      "-------------------------------\n",
      "Train loss = 0.035999  [   64/59999]\n",
      "Train loss = 0.004264  [32064/59999]\n",
      "Train accuracy = 95.9%, Train avg loss = 0.002226\n",
      "\n",
      "Epoch 2\n",
      "-------------------------------\n",
      "Train loss = 0.001646  [   64/59999]\n",
      "Train loss = 0.002631  [32064/59999]\n",
      "Train accuracy = 97.3%, Train avg loss = 0.001536\n",
      "Test accuracy = 96.8%, Test avg loss = 0.002012\n",
      "Average time per example classification: 6.50914816677223e-05 seconds\n"
     ]
    }
   ],
   "source": [
    "hid_layers = [1, 3, 4]\n",
    "FLOP_arr = []\n",
    "Acc_arr = []\n",
    "Latency_arr = []\n",
    "\n",
    "# log the late\n",
    "for nL in hid_layers:\n",
    "    model = MNISTNetwork(hidden_layers=nL).to(device)\n",
    "    print(model)\n",
    "    FLOP_arr.append(model.countflops())\n",
    "    loss_fn = nn.CrossEntropyLoss() # no need to softmax as CrossEntropyLoss works on raw logits\n",
    "    optimizer = torch.optim.Adam(model.parameters(), lr=learning_rate)\n",
    "    for t in range(num_epochs):\n",
    "        print(f\"\\nEpoch {t+1}\\n-------------------------------\")\n",
    "        train_duration = train_one_epoch(train_dataloader, model, loss_fn, optimizer, t)\n",
    "        evaluate(train_dataloader, \"Train\", model, loss_fn, t)\n",
    "    # log the test accuracy and FLOPs of the trained model\n",
    "    accuracy, avg_infer = new_evaluate(test_dataloader, \"Test\", model, loss_fn)\n",
    "    Acc_arr.append(accuracy)\n",
    "    Latency_arr.append(avg_infer)\n",
    "\n",
    "# append original model's result\n",
    "FLOP_arr.append(n_flops)\n",
    "Acc_arr.append(97.1)\n",
    "Latency_arr.append(avg) #2.7386016914684993e"
   ]
  },
  {
   "cell_type": "code",
   "execution_count": 77,
   "metadata": {},
   "outputs": [
    {
     "data": {
      "text/plain": [
       "Text(0.5, 1.0, 'Acccuracy vs FLOPs')"
      ]
     },
     "execution_count": 77,
     "metadata": {},
     "output_type": "execute_result"
    },
    {
     "data": {
      "image/png": "[encoded data removed]",
      "text/plain": [
       "<Figure size 640x480 with 1 Axes>"
      ]
     },
     "metadata": {},
     "output_type": "display_data"
    }
   ],
   "source": [
    "# plot the accuracy vs FLOPs from our base model\n",
    "plt.scatter(FLOP_arr, Acc_arr)\n",
    "plt.xlabel('FLOPs')\n",
    "plt.ylabel('Test Accuracy (%)')\n",
    "plt.title('Acccuracy vs FLOPs')"
   ]
  },
  {
   "cell_type": "markdown",
   "metadata": {},
   "source": [
    "The accuracy vs flops plot does not show significant improvement in accuracy using a deeper network, where the the number of FLOPs scales linearly to the depth for one to four hidden layers. All networks' performances are similar."
   ]
  },
  {
   "cell_type": "code",
   "execution_count": 68,
   "metadata": {},
   "outputs": [
    {
     "data": {
      "text/plain": [
       "Text(0.5, 1.0, 'Latency vs FLOPs')"
      ]
     },
     "execution_count": 68,
     "metadata": {},
     "output_type": "execute_result"
    },
    {
     "data": {
      "image/png": "[encoded data removed]",
      "text/plain": [
       "<Figure size 640x480 with 1 Axes>"
      ]
     },
     "metadata": {},
     "output_type": "display_data"
    }
   ],
   "source": [
    "# plot latency vs FLOPs\n",
    "plt.scatter(FLOP_arr, Latency_arr)\n",
    "plt.xlabel('FLOPs')\n",
    "plt.ylabel('Latency (s)')\n",
    "plt.title('Latency vs FLOPs')"
   ]
  },
  {
   "cell_type": "markdown",
   "metadata": {},
   "source": [
    "The latency vs FLOPs plot shows a linear proportional relationship between the number of FLOPs and the inference time, which is expected as the time taken to compute a result grows linearly with the amount of operations to perform given a fixed processing speed."
   ]
  },
  {
   "cell_type": "code",
   "execution_count": 70,
   "metadata": {},
   "outputs": [
    {
     "data": {
      "text/plain": [
       "Text(0.5, 1.0, 'Accuracy vs Latency')"
      ]
     },
     "execution_count": 70,
     "metadata": {},
     "output_type": "execute_result"
    },
    {
     "data": {
      "image/png": "[encoded data removed]",
      "text/plain": [
       "<Figure size 640x480 with 1 Axes>"
      ]
     },
     "metadata": {},
     "output_type": "display_data"
    }
   ],
   "source": [
    "# plot accuracy vs latency\n",
    "plt.scatter(Latency_arr, Acc_arr)\n",
    "plt.ylabel('Test Accuracy (%)')\n",
    "plt.xlabel('Latency (s)')\n",
    "plt.title('Accuracy vs Latency')"
   ]
  },
  {
   "cell_type": "markdown",
   "metadata": {},
   "source": [
    "Similar to the accuracy vs FLOPs plot, since latency is proportional to the number of FLOPs, an almost identical spread is found here. There is little or in this case here no boost to the test accuracy after training for two epochs for networks of increasing depth at a fixed hidden size. In fact, more complexity as signified by the inference time per example gave worse results, which could be due to having too many parameters that were detrimental or not sufficiently trained to give better results."
   ]
  },
  {
   "cell_type": "markdown",
   "metadata": {},
   "source": [
    "Q3.7 Train on variety of widths\n",
    "\n",
    "Generate the same three plots as 3.6"
   ]
  },
  {
   "cell_type": "code",
   "execution_count": 116,
   "metadata": {},
   "outputs": [
    {
     "name": "stdout",
     "output_type": "stream",
     "text": [
      "Total number of model parameters: 807\n",
      "Total number of model parameters: 6442\n",
      "Total number of model parameters: 1863690\n",
      "Total number of model parameters: 5824522\n"
     ]
    }
   ],
   "source": [
    "hid_widths = [1, 8, 1024, 2048]\n",
    "for nH in hid_widths:\n",
    "    model = MNISTNetwork(hidden_size=nH).to(device)\n",
    "    count_parameters(model)"
   ]
  },
  {
   "cell_type": "code",
   "execution_count": 83,
   "metadata": {},
   "outputs": [
    {
     "name": "stdout",
     "output_type": "stream",
     "text": [
      "MNISTNetwork(\n",
      "  (flatten): Flatten(start_dim=1, end_dim=-1)\n",
      "  (sequential): Sequential(\n",
      "    (0): Linear(in_features=784, out_features=1, bias=True)\n",
      "    (1): ReLU()\n",
      "    (2): Linear(in_features=1, out_features=1, bias=True)\n",
      "    (3): ReLU()\n",
      "    (4): Linear(in_features=1, out_features=10, bias=True)\n",
      "  )\n",
      ")\n",
      "FLOPs: 614683\n",
      "\n",
      "Epoch 1\n",
      "-------------------------------\n",
      "Train loss = 0.038399  [   64/59999]\n"
     ]
    },
    {
     "name": "stderr",
     "output_type": "stream",
     "text": [
      "C:\\Users\\joncc\\AppData\\Local\\Temp\\ipykernel_42744\\2121649383.py:11: FutureWarning: Series.__getitem__ treating keys as positions is deprecated. In a future version, integer keys will always be treated as labels (consistent with DataFrame behavior). To access a value by position, use `ser.iloc[pos]`\n",
      "  label = row[0] # first value is the class label\n"
     ]
    },
    {
     "name": "stdout",
     "output_type": "stream",
     "text": [
      "Train loss = 0.036969  [32064/59999]\n",
      "Train accuracy = 9.9%, Train avg loss = 0.036179\n",
      "\n",
      "Epoch 2\n",
      "-------------------------------\n",
      "Train loss = 0.035822  [   64/59999]\n",
      "Train loss = 0.036080  [32064/59999]\n",
      "Train accuracy = 11.2%, Train avg loss = 0.035981\n",
      "Test accuracy = 11.4%, Test avg loss = 0.036133\n",
      "Average time per example classification: 1.0476501346808111e-05 seconds\n",
      "MNISTNetwork(\n",
      "  (flatten): Flatten(start_dim=1, end_dim=-1)\n",
      "  (sequential): Sequential(\n",
      "    (0): Linear(in_features=784, out_features=8, bias=True)\n",
      "    (1): ReLU()\n",
      "    (2): Linear(in_features=8, out_features=8, bias=True)\n",
      "    (3): ReLU()\n",
      "    (4): Linear(in_features=8, out_features=10, bias=True)\n",
      "  )\n",
      ")\n",
      "FLOPs: 4918458\n",
      "\n",
      "Epoch 1\n",
      "-------------------------------\n",
      "Train loss = 0.036627  [   64/59999]\n",
      "Train loss = 0.010918  [32064/59999]\n",
      "Train accuracy = 84.7%, Train avg loss = 0.008161\n",
      "\n",
      "Epoch 2\n",
      "-------------------------------\n",
      "Train loss = 0.007862  [   64/59999]\n",
      "Train loss = 0.007736  [32064/59999]\n",
      "Train accuracy = 88.5%, Train avg loss = 0.006170\n",
      "Test accuracy = 88.3%, Test avg loss = 0.006265\n",
      "Average time per example classification: 9.642683024959246e-06 seconds\n",
      "MNISTNetwork(\n",
      "  (flatten): Flatten(start_dim=1, end_dim=-1)\n",
      "  (sequential): Sequential(\n",
      "    (0): Linear(in_features=784, out_features=2048, bias=True)\n",
      "    (1): ReLU()\n",
      "    (2): Linear(in_features=2048, out_features=2048, bias=True)\n",
      "    (3): ReLU()\n",
      "    (4): Linear(in_features=2048, out_features=10, bias=True)\n",
      "  )\n",
      ")\n",
      "FLOPs: 9890705418\n",
      "\n",
      "Epoch 1\n",
      "-------------------------------\n",
      "Train loss = 0.036082  [   64/59999]\n",
      "Train loss = 0.003598  [32064/59999]\n",
      "Train accuracy = 95.6%, Train avg loss = 0.002286\n",
      "\n",
      "Epoch 2\n",
      "-------------------------------\n",
      "Train loss = 0.002127  [   64/59999]\n",
      "Train loss = 0.002111  [32064/59999]\n",
      "Train accuracy = 98.1%, Train avg loss = 0.000973\n",
      "Test accuracy = 97.4%, Test avg loss = 0.001495\n",
      "Average time per example classification: 6.700666261672591e-05 seconds\n"
     ]
    }
   ],
   "source": [
    "hid_widths = [1, 8, 2048]\n",
    "width_FLOP_arr = []\n",
    "width_acc_arr = []\n",
    "width_latency_arr = []\n",
    "\n",
    "# log the late\n",
    "for nH in hid_widths:\n",
    "    model = MNISTNetwork(hidden_size=nH).to(device)\n",
    "    print(model)\n",
    "    width_FLOP_arr.append(model.countflops())\n",
    "    loss_fn = nn.CrossEntropyLoss() # no need to softmax as CrossEntropyLoss works on raw logits\n",
    "    optimizer = torch.optim.Adam(model.parameters(), lr=learning_rate)\n",
    "    for t in range(num_epochs):\n",
    "        print(f\"\\nEpoch {t+1}\\n-------------------------------\")\n",
    "        train_duration = train_one_epoch(train_dataloader, model, loss_fn, optimizer, t)\n",
    "        evaluate(train_dataloader, \"Train\", model, loss_fn, t)\n",
    "    # log the test accuracy and FLOPs of the trained model\n",
    "    accuracy, avg_infer = new_evaluate(test_dataloader, \"Test\", model, loss_fn)\n",
    "    width_acc_arr.append(accuracy)\n",
    "    width_latency_arr.append(avg_infer)\n",
    "# add first model's results\n",
    "width_FLOP_arr.append(n_flops)\n",
    "width_acc_arr.append(97.1)\n",
    "width_latency_arr.append(avg) #2.7386016914684993e"
   ]
  },
  {
   "cell_type": "code",
   "execution_count": 84,
   "metadata": {},
   "outputs": [
    {
     "data": {
      "text/plain": [
       "Text(0.5, 1.0, 'Acccuracy vs FLOPs')"
      ]
     },
     "execution_count": 84,
     "metadata": {},
     "output_type": "execute_result"
    },
    {
     "data": {
      "image/png": "[encoded data removed]",
      "text/plain": [
       "<Figure size 640x480 with 1 Axes>"
      ]
     },
     "metadata": {},
     "output_type": "display_data"
    }
   ],
   "source": [
    "# plot the accuracy vs FLOPs from our base model\n",
    "plt.scatter(width_FLOP_arr, width_acc_arr)\n",
    "plt.xlabel('FLOPs')\n",
    "plt.ylabel('Test Accuracy (%)')\n",
    "plt.title('Acccuracy vs FLOPs')"
   ]
  },
  {
   "cell_type": "markdown",
   "metadata": {},
   "source": [
    "In this plot, a hidden size of 1 fails to capture complexity of the standard image and performs barely any better than a purely random guesser that would achieve a 10% accuracy. As the model increases in complexity with a hidden size of 8, accuracy markedly improves. When the default hidden size of 1024 or double that is applied, marginal gains are achieved for far more computations, showing that there is a saturation and diminishing returns from increasing width."
   ]
  },
  {
   "cell_type": "code",
   "execution_count": 85,
   "metadata": {},
   "outputs": [
    {
     "data": {
      "text/plain": [
       "Text(0.5, 1.0, 'Latency vs FLOPs')"
      ]
     },
     "execution_count": 85,
     "metadata": {},
     "output_type": "execute_result"
    },
    {
     "data": {
      "image/png": "[encoded data removed]",
      "text/plain": [
       "<Figure size 640x480 with 1 Axes>"
      ]
     },
     "metadata": {},
     "output_type": "display_data"
    }
   ],
   "source": [
    "# plot latency vs FLOPs\n",
    "plt.scatter(width_FLOP_arr, width_latency_arr)\n",
    "plt.xlabel('FLOPs')\n",
    "plt.ylabel('Latency (s)')\n",
    "plt.title('Latency vs FLOPs')"
   ]
  },
  {
   "cell_type": "markdown",
   "metadata": {},
   "source": [
    "The trend that latency is proportional to the number of FLOPs is observed here again, which agrees with the reasoning above from the corresponding plot of Q3.6."
   ]
  },
  {
   "cell_type": "code",
   "execution_count": 86,
   "metadata": {},
   "outputs": [
    {
     "data": {
      "text/plain": [
       "Text(0.5, 1.0, 'Accuracy vs Latency')"
      ]
     },
     "execution_count": 86,
     "metadata": {},
     "output_type": "execute_result"
    },
    {
     "data": {
      "image/png": "[encoded data removed]",
      "text/plain": [
       "<Figure size 640x480 with 1 Axes>"
      ]
     },
     "metadata": {},
     "output_type": "display_data"
    }
   ],
   "source": [
    "# plot accuracy vs latency\n",
    "plt.scatter(width_latency_arr, width_acc_arr)\n",
    "plt.ylabel('Test Accuracy (%)')\n",
    "plt.xlabel('Latency (s)')\n",
    "plt.title('Accuracy vs Latency')"
   ]
  },
  {
   "cell_type": "markdown",
   "metadata": {},
   "source": [
    "Again, a plateauing curve is outlined with the data points, showing that a critical model complexity between a hidden size of 1 to 8 allows the model to learn how to classify the digits."
   ]
  },
  {
   "cell_type": "markdown",
   "metadata": {},
   "source": [
    "3.8 Visual transform 1: resize to half size"
   ]
  },
  {
   "cell_type": "code",
   "execution_count": 62,
   "metadata": {},
   "outputs": [],
   "source": [
    "def get_transform1_data(batch_size):\n",
    "    transform_mnist = T.Compose([\n",
    "        T.ToTensor(), \n",
    "        T.Resize(min(img_size[0]//2, img_size[1]//2), antialias=True),\n",
    "        T.Normalize(mean=[0], std=[1]) # Normalize to 0 mean and 1 std\n",
    "        ])\n",
    "    train_data = CsvMNISTDataset(\n",
    "        csv_file='./mnist_data/mnist_train.csv',\n",
    "        transform=transform_mnist,\n",
    "    )\n",
    "    test_data = CsvMNISTDataset(\n",
    "        csv_file='./mnist_data/mnist_test.csv',\n",
    "        transform=transform_mnist,\n",
    "    )\n",
    "\n",
    "    train_dataloader = DataLoader(train_data, batch_size=batch_size)\n",
    "    test_dataloader = DataLoader(test_data, batch_size=batch_size)\n",
    "    \n",
    "    for X, y in train_dataloader:\n",
    "        print(f\"Shape of X [B, C, H, W]: {X.shape}\") # [batch_size, channels, dims]\n",
    "        print(f\"Shape of y: {y.shape} {y.dtype}\")\n",
    "        break\n",
    "    \n",
    "    return train_dataloader, test_dataloader"
   ]
  },
  {
   "cell_type": "code",
   "execution_count": 117,
   "metadata": {},
   "outputs": [
    {
     "name": "stdout",
     "output_type": "stream",
     "text": [
      "Shape of X [B, C, H, W]: torch.Size([64, 1, 14, 14])\n",
      "Shape of y: torch.Size([64]) torch.int64\n",
      "Total number of model parameters: 1261578\n",
      "MNISTNetwork(\n",
      "  (flatten): Flatten(start_dim=1, end_dim=-1)\n",
      "  (sequential): Sequential(\n",
      "    (0): Linear(in_features=196, out_features=1024, bias=True)\n",
      "    (1): ReLU()\n",
      "    (2): Linear(in_features=1024, out_features=1024, bias=True)\n",
      "    (3): ReLU()\n",
      "    (4): Linear(in_features=1024, out_features=10, bias=True)\n",
      "  )\n",
      ")\n"
     ]
    },
    {
     "name": "stderr",
     "output_type": "stream",
     "text": [
      "C:\\Users\\joncc\\AppData\\Local\\Temp\\ipykernel_42744\\2121649383.py:11: FutureWarning: Series.__getitem__ treating keys as positions is deprecated. In a future version, integer keys will always be treated as labels (consistent with DataFrame behavior). To access a value by position, use `ser.iloc[pos]`\n",
      "  label = row[0] # first value is the class label\n"
     ]
    }
   ],
   "source": [
    "transform1_train_dataloader, transform1_test_dataloader = get_transform1_data(batch_size)\n",
    "transform1_model = MNISTNetwork(image_size=(14,14)).to(device)\n",
    "count_parameters(transform1_model)\n",
    "print(transform1_model)\n",
    "loss_fn = nn.CrossEntropyLoss() # no need to softmax as CrossEntropyLoss works on raw logits\n",
    "optimizer = torch.optim.Adam(transform1_model.parameters(), lr=learning_rate)"
   ]
  },
  {
   "cell_type": "code",
   "execution_count": 76,
   "metadata": {},
   "outputs": [
    {
     "name": "stdout",
     "output_type": "stream",
     "text": [
      "MNISTNetwork(\n",
      "  (flatten): Flatten(start_dim=1, end_dim=-1)\n",
      "  (sequential): Sequential(\n",
      "    (0): Linear(in_features=196, out_features=1024, bias=True)\n",
      "    (1): ReLU()\n",
      "    (2): Linear(in_features=1024, out_features=10, bias=True)\n",
      "  )\n",
      ")\n",
      "FLOPs: 49826826\n",
      "\n",
      "Epoch 1\n",
      "-------------------------------\n",
      "Train loss = 0.035894  [   64/59999]\n"
     ]
    },
    {
     "name": "stderr",
     "output_type": "stream",
     "text": [
      "C:\\Users\\joncc\\AppData\\Local\\Temp\\ipykernel_42744\\2121649383.py:11: FutureWarning: Series.__getitem__ treating keys as positions is deprecated. In a future version, integer keys will always be treated as labels (consistent with DataFrame behavior). To access a value by position, use `ser.iloc[pos]`\n",
      "  label = row[0] # first value is the class label\n"
     ]
    },
    {
     "name": "stdout",
     "output_type": "stream",
     "text": [
      "Train loss = 0.004625  [32064/59999]\n",
      "Train accuracy = 94.8%, Train avg loss = 0.002701\n",
      "\n",
      "Epoch 2\n",
      "-------------------------------\n",
      "Train loss = 0.001870  [   64/59999]\n",
      "Train loss = 0.003216  [32064/59999]\n",
      "Train accuracy = 96.5%, Train avg loss = 0.001798\n",
      "Test accuracy = 96.6%, Test avg loss = 0.001826\n",
      "Average time per example classification: 1.1050823296747558e-05 seconds\n",
      "MNISTNetwork(\n",
      "  (flatten): Flatten(start_dim=1, end_dim=-1)\n",
      "  (sequential): Sequential(\n",
      "    (0): Linear(in_features=196, out_features=1024, bias=True)\n",
      "    (1): ReLU()\n",
      "    (2): Linear(in_features=1024, out_features=1024, bias=True)\n",
      "    (3): ReLU()\n",
      "    (4): Linear(in_features=1024, out_features=10, bias=True)\n",
      "  )\n",
      ")\n",
      "FLOPs: 1123571722\n",
      "\n",
      "Epoch 1\n",
      "-------------------------------\n",
      "Train loss = 0.035893  [   64/59999]\n",
      "Train loss = 0.004219  [32064/59999]\n",
      "Train accuracy = 96.1%, Train avg loss = 0.002013\n",
      "\n",
      "Epoch 2\n",
      "-------------------------------\n",
      "Train loss = 0.001004  [   64/59999]\n",
      "Train loss = 0.002034  [32064/59999]\n",
      "Train accuracy = 97.0%, Train avg loss = 0.001448\n",
      "Test accuracy = 96.8%, Test avg loss = 0.001641\n",
      "Average time per example classification: 2.669358746890972e-05 seconds\n",
      "MNISTNetwork(\n",
      "  (flatten): Flatten(start_dim=1, end_dim=-1)\n",
      "  (sequential): Sequential(\n",
      "    (0): Linear(in_features=196, out_features=1024, bias=True)\n",
      "    (1): ReLU()\n",
      "    (2): Linear(in_features=1024, out_features=1024, bias=True)\n",
      "    (3): ReLU()\n",
      "    (4): Linear(in_features=1024, out_features=1024, bias=True)\n",
      "    (5): ReLU()\n",
      "    (6): Linear(in_features=1024, out_features=10, bias=True)\n",
      "  )\n",
      ")\n",
      "FLOPs: 2197316618\n",
      "\n",
      "Epoch 1\n",
      "-------------------------------\n",
      "Train loss = 0.035997  [   64/59999]\n",
      "Train loss = 0.004716  [32064/59999]\n",
      "Train accuracy = 96.1%, Train avg loss = 0.002025\n",
      "\n",
      "Epoch 2\n",
      "-------------------------------\n",
      "Train loss = 0.000845  [   64/59999]\n",
      "Train loss = 0.001938  [32064/59999]\n",
      "Train accuracy = 95.9%, Train avg loss = 0.002161\n",
      "Test accuracy = 95.6%, Test avg loss = 0.002540\n",
      "Average time per example classification: 4.461404667433328e-05 seconds\n",
      "MNISTNetwork(\n",
      "  (flatten): Flatten(start_dim=1, end_dim=-1)\n",
      "  (sequential): Sequential(\n",
      "    (0): Linear(in_features=196, out_features=1024, bias=True)\n",
      "    (1): ReLU()\n",
      "    (2): Linear(in_features=1024, out_features=1024, bias=True)\n",
      "    (3): ReLU()\n",
      "    (4): Linear(in_features=1024, out_features=1024, bias=True)\n",
      "    (5): ReLU()\n",
      "    (6): Linear(in_features=1024, out_features=1024, bias=True)\n",
      "    (7): ReLU()\n",
      "    (8): Linear(in_features=1024, out_features=10, bias=True)\n",
      "  )\n",
      ")\n",
      "FLOPs: 3271061514\n",
      "\n",
      "Epoch 1\n",
      "-------------------------------\n",
      "Train loss = 0.036027  [   64/59999]\n",
      "Train loss = 0.004254  [32064/59999]\n",
      "Train accuracy = 94.3%, Train avg loss = 0.002910\n",
      "\n",
      "Epoch 2\n",
      "-------------------------------\n",
      "Train loss = 0.001636  [   64/59999]\n",
      "Train loss = 0.003695  [32064/59999]\n",
      "Train accuracy = 96.9%, Train avg loss = 0.001812\n",
      "Test accuracy = 96.7%, Test avg loss = 0.001935\n",
      "Average time per example classification: 5.696675900548774e-05 seconds\n"
     ]
    }
   ],
   "source": [
    "hid_layers = [1, 2, 3, 4]\n",
    "transform1_FLOP_arr = []\n",
    "transform1_Acc_arr = []\n",
    "transform1_Latency_arr = []\n",
    "\n",
    "# log the late\n",
    "for nL in hid_layers:\n",
    "    model = MNISTNetwork(image_size=(14,14), hidden_layers=nL).to(device)\n",
    "    print(model)\n",
    "    transform1_FLOP_arr.append(model.countflops())\n",
    "    loss_fn = nn.CrossEntropyLoss() # no need to softmax as CrossEntropyLoss works on raw logits\n",
    "    optimizer = torch.optim.Adam(model.parameters(), lr=learning_rate)\n",
    "    for t in range(num_epochs):\n",
    "        print(f\"\\nEpoch {t+1}\\n-------------------------------\")\n",
    "        train_duration = train_one_epoch(transform1_train_dataloader, model, loss_fn, optimizer, t)\n",
    "        evaluate(transform1_train_dataloader, \"Train\", model, loss_fn, t)\n",
    "\n",
    "    # log the test accuracy and FLOPs of the trained model\n",
    "    transform1_accuracy, transform1_avg_infer = new_evaluate(transform1_test_dataloader, \"Test\", model, loss_fn)\n",
    "    transform1_Acc_arr.append(transform1_accuracy)\n",
    "    transform1_Latency_arr.append(transform1_avg_infer)"
   ]
  },
  {
   "cell_type": "code",
   "execution_count": 87,
   "metadata": {},
   "outputs": [
    {
     "data": {
      "text/plain": [
       "Text(0.5, 1.0, 'Acccuracy vs FLOPs')"
      ]
     },
     "execution_count": 87,
     "metadata": {},
     "output_type": "execute_result"
    },
    {
     "data": {
      "image/png": "[encoded data removed]",
      "text/plain": [
       "<Figure size 640x480 with 1 Axes>"
      ]
     },
     "metadata": {},
     "output_type": "display_data"
    }
   ],
   "source": [
    "# plot the accuracy vs FLOPs from our base model\n",
    "plt.scatter(transform1_FLOP_arr, transform1_Acc_arr)\n",
    "plt.xlabel('FLOPs')\n",
    "plt.ylabel('Test Accuracy (%)')\n",
    "plt.title('Acccuracy vs FLOPs')"
   ]
  },
  {
   "cell_type": "markdown",
   "metadata": {},
   "source": [
    "Compared to Q3.6 that uses the original size image, the compression to a half dimension image of 14 x 14 preserved enough information for the neural network to correctly identify digits. This suggests that the data is simple and lacks complex features that a quarter of the pixels can still capture the complexity, as proven by the network achieving similar accuracy for the number of flops."
   ]
  },
  {
   "cell_type": "code",
   "execution_count": 79,
   "metadata": {},
   "outputs": [
    {
     "data": {
      "text/plain": [
       "Text(0.5, 1.0, 'Latency vs FLOPs')"
      ]
     },
     "execution_count": 79,
     "metadata": {},
     "output_type": "execute_result"
    },
    {
     "data": {
      "image/png": "[encoded data removed]",
      "text/plain": [
       "<Figure size 640x480 with 1 Axes>"
      ]
     },
     "metadata": {},
     "output_type": "display_data"
    }
   ],
   "source": [
    "# plot latency vs FLOPs\n",
    "plt.scatter(transform1_FLOP_arr, transform1_Latency_arr)\n",
    "plt.xlabel('FLOPs')\n",
    "plt.ylabel('Latency (s)')\n",
    "plt.title('Latency vs FLOPs')"
   ]
  },
  {
   "cell_type": "markdown",
   "metadata": {},
   "source": [
    "Unsurprisingly, the linear relationship between the number of flops and inference is maintained."
   ]
  },
  {
   "cell_type": "code",
   "execution_count": 80,
   "metadata": {},
   "outputs": [
    {
     "data": {
      "text/plain": [
       "Text(0.5, 1.0, 'Accuracy vs Latency')"
      ]
     },
     "execution_count": 80,
     "metadata": {},
     "output_type": "execute_result"
    },
    {
     "data": {
      "image/png": "[encoded data removed]",
      "text/plain": [
       "<Figure size 640x480 with 1 Axes>"
      ]
     },
     "metadata": {},
     "output_type": "display_data"
    }
   ],
   "source": [
    "# plot accuracy vs latency\n",
    "plt.scatter(transform1_Latency_arr, transform1_Acc_arr)\n",
    "plt.ylabel('Test Accuracy (%)')\n",
    "plt.xlabel('Latency (s)')\n",
    "plt.title('Accuracy vs Latency')"
   ]
  },
  {
   "cell_type": "markdown",
   "metadata": {},
   "source": [
    "Similar to the accuracy vs latency, the model has achieved enough complexity for any depth between 1 and 4 that a common hidden size of 1024 is able to learn the difference between the digits. The accuracies fluctuate between 95% and 97%"
   ]
  },
  {
   "cell_type": "markdown",
   "metadata": {},
   "source": [
    "3.8 Visual transform 2: cropping to center 14 x 14 pixels"
   ]
  },
  {
   "cell_type": "code",
   "execution_count": 88,
   "metadata": {},
   "outputs": [],
   "source": [
    "def get_transform2_data(batch_size):\n",
    "    transform_mnist = T.Compose([\n",
    "        T.ToTensor(), \n",
    "        T.Resize(min(img_size[0], img_size[1]), antialias=True), \n",
    "        T.CenterCrop((14,14)), \n",
    "        T.Normalize(mean=[0], std=[1]) # Normalize to 0 mean and 1 std\n",
    "        ])\n",
    "    train_data = CsvMNISTDataset(\n",
    "        csv_file='./mnist_data/mnist_train.csv',\n",
    "        transform=transform_mnist,\n",
    "    )\n",
    "    test_data = CsvMNISTDataset(\n",
    "        csv_file='./mnist_data/mnist_test.csv',\n",
    "        transform=transform_mnist,\n",
    "    )\n",
    "\n",
    "    train_dataloader = DataLoader(train_data, batch_size=batch_size)\n",
    "    test_dataloader = DataLoader(test_data, batch_size=batch_size)\n",
    "    \n",
    "    for X, y in train_dataloader:\n",
    "        print(f\"Shape of X [B, C, H, W]: {X.shape}\") # [batch_size, channels, dims]\n",
    "        print(f\"Shape of y: {y.shape} {y.dtype}\")\n",
    "        break\n",
    "    \n",
    "    return train_dataloader, test_dataloader"
   ]
  },
  {
   "cell_type": "code",
   "execution_count": 118,
   "metadata": {},
   "outputs": [
    {
     "name": "stdout",
     "output_type": "stream",
     "text": [
      "Shape of X [B, C, H, W]: torch.Size([64, 1, 14, 14])\n",
      "Shape of y: torch.Size([64]) torch.int64\n",
      "Total number of model parameters: 1261578\n",
      "MNISTNetwork(\n",
      "  (flatten): Flatten(start_dim=1, end_dim=-1)\n",
      "  (sequential): Sequential(\n",
      "    (0): Linear(in_features=196, out_features=1024, bias=True)\n",
      "    (1): ReLU()\n",
      "    (2): Linear(in_features=1024, out_features=1024, bias=True)\n",
      "    (3): ReLU()\n",
      "    (4): Linear(in_features=1024, out_features=10, bias=True)\n",
      "  )\n",
      ")\n"
     ]
    },
    {
     "name": "stderr",
     "output_type": "stream",
     "text": [
      "C:\\Users\\joncc\\AppData\\Local\\Temp\\ipykernel_42744\\2121649383.py:11: FutureWarning: Series.__getitem__ treating keys as positions is deprecated. In a future version, integer keys will always be treated as labels (consistent with DataFrame behavior). To access a value by position, use `ser.iloc[pos]`\n",
      "  label = row[0] # first value is the class label\n"
     ]
    }
   ],
   "source": [
    "transform2_train_dataloader, transform2_test_dataloader = get_transform2_data(batch_size)\n",
    "train_size = len(transform2_train_dataloader.dataset)\n",
    "test_size = len(transform2_test_dataloader.dataset)\n",
    "transform2_model = MNISTNetwork(image_size=(14,14)).to(device)\n",
    "count_parameters(transform2_model)\n",
    "print(transform2_model)\n",
    "loss_fn = nn.CrossEntropyLoss() # no need to softmax as CrossEntropyLoss works on raw logits\n",
    "optimizer = torch.optim.Adam(transform2_model.parameters(), lr=learning_rate)"
   ]
  },
  {
   "cell_type": "code",
   "execution_count": 90,
   "metadata": {},
   "outputs": [
    {
     "name": "stdout",
     "output_type": "stream",
     "text": [
      "MNISTNetwork(\n",
      "  (flatten): Flatten(start_dim=1, end_dim=-1)\n",
      "  (sequential): Sequential(\n",
      "    (0): Linear(in_features=196, out_features=1024, bias=True)\n",
      "    (1): ReLU()\n",
      "    (2): Linear(in_features=1024, out_features=10, bias=True)\n",
      "  )\n",
      ")\n",
      "FLOPs: 49826826\n",
      "\n",
      "Epoch 1\n",
      "-------------------------------\n",
      "Train loss = 0.036430  [   64/59999]\n"
     ]
    },
    {
     "name": "stderr",
     "output_type": "stream",
     "text": [
      "C:\\Users\\joncc\\AppData\\Local\\Temp\\ipykernel_42744\\2121649383.py:11: FutureWarning: Series.__getitem__ treating keys as positions is deprecated. In a future version, integer keys will always be treated as labels (consistent with DataFrame behavior). To access a value by position, use `ser.iloc[pos]`\n",
      "  label = row[0] # first value is the class label\n"
     ]
    },
    {
     "name": "stdout",
     "output_type": "stream",
     "text": [
      "Train loss = 0.004889  [32064/59999]\n",
      "Train accuracy = 93.9%, Train avg loss = 0.003042\n",
      "\n",
      "Epoch 2\n",
      "-------------------------------\n",
      "Train loss = 0.002176  [   64/59999]\n",
      "Train loss = 0.003092  [32064/59999]\n",
      "Train accuracy = 95.8%, Train avg loss = 0.002057\n",
      "Test accuracy = 95.2%, Test avg loss = 0.002333\n",
      "Average time per example classification: 1.0501650985953845e-05 seconds\n",
      "MNISTNetwork(\n",
      "  (flatten): Flatten(start_dim=1, end_dim=-1)\n",
      "  (sequential): Sequential(\n",
      "    (0): Linear(in_features=196, out_features=1024, bias=True)\n",
      "    (1): ReLU()\n",
      "    (2): Linear(in_features=1024, out_features=1024, bias=True)\n",
      "    (3): ReLU()\n",
      "    (4): Linear(in_features=1024, out_features=10, bias=True)\n",
      "  )\n",
      ")\n",
      "FLOPs: 1123571722\n",
      "\n",
      "Epoch 1\n",
      "-------------------------------\n",
      "Train loss = 0.035932  [   64/59999]\n",
      "Train loss = 0.004700  [32064/59999]\n",
      "Train accuracy = 94.7%, Train avg loss = 0.002695\n",
      "\n",
      "Epoch 2\n",
      "-------------------------------\n",
      "Train loss = 0.002377  [   64/59999]\n",
      "Train loss = 0.003229  [32064/59999]\n",
      "Train accuracy = 96.0%, Train avg loss = 0.001923\n",
      "Test accuracy = 95.1%, Test avg loss = 0.002469\n",
      "Average time per example classification: 3.0193171732057306e-05 seconds\n",
      "MNISTNetwork(\n",
      "  (flatten): Flatten(start_dim=1, end_dim=-1)\n",
      "  (sequential): Sequential(\n",
      "    (0): Linear(in_features=196, out_features=1024, bias=True)\n",
      "    (1): ReLU()\n",
      "    (2): Linear(in_features=1024, out_features=1024, bias=True)\n",
      "    (3): ReLU()\n",
      "    (4): Linear(in_features=1024, out_features=1024, bias=True)\n",
      "    (5): ReLU()\n",
      "    (6): Linear(in_features=1024, out_features=10, bias=True)\n",
      "  )\n",
      ")\n",
      "FLOPs: 2197316618\n",
      "\n",
      "Epoch 1\n",
      "-------------------------------\n",
      "Train loss = 0.036050  [   64/59999]\n",
      "Train loss = 0.004672  [32064/59999]\n",
      "Train accuracy = 95.0%, Train avg loss = 0.002631\n",
      "\n",
      "Epoch 2\n",
      "-------------------------------\n",
      "Train loss = 0.002868  [   64/59999]\n",
      "Train loss = 0.003167  [32064/59999]\n",
      "Train accuracy = 95.3%, Train avg loss = 0.002384\n",
      "Test accuracy = 94.1%, Test avg loss = 0.003018\n",
      "Average time per example classification: 4.60521988488355e-05 seconds\n",
      "MNISTNetwork(\n",
      "  (flatten): Flatten(start_dim=1, end_dim=-1)\n",
      "  (sequential): Sequential(\n",
      "    (0): Linear(in_features=196, out_features=1024, bias=True)\n",
      "    (1): ReLU()\n",
      "    (2): Linear(in_features=1024, out_features=1024, bias=True)\n",
      "    (3): ReLU()\n",
      "    (4): Linear(in_features=1024, out_features=1024, bias=True)\n",
      "    (5): ReLU()\n",
      "    (6): Linear(in_features=1024, out_features=1024, bias=True)\n",
      "    (7): ReLU()\n",
      "    (8): Linear(in_features=1024, out_features=10, bias=True)\n",
      "  )\n",
      ")\n",
      "FLOPs: 3271061514\n",
      "\n",
      "Epoch 1\n",
      "-------------------------------\n",
      "Train loss = 0.036014  [   64/59999]\n",
      "Train loss = 0.005702  [32064/59999]\n",
      "Train accuracy = 93.3%, Train avg loss = 0.003563\n",
      "\n",
      "Epoch 2\n",
      "-------------------------------\n",
      "Train loss = 0.002288  [   64/59999]\n",
      "Train loss = 0.002397  [32064/59999]\n",
      "Train accuracy = 93.0%, Train avg loss = 0.004008\n",
      "Test accuracy = 92.6%, Test avg loss = 0.004377\n",
      "Average time per example classification: 5.260794330893546e-05 seconds\n"
     ]
    }
   ],
   "source": [
    "hid_layers = [1, 2, 3, 4]\n",
    "transform2_FLOP_arr = []\n",
    "transform2_Acc_arr = []\n",
    "transform2_Latency_arr = []\n",
    "\n",
    "# log the late\n",
    "for nL in hid_layers:\n",
    "    model = MNISTNetwork(image_size=(14,14), hidden_layers=nL).to(device)\n",
    "    print(model)\n",
    "    transform2_FLOP_arr.append(model.countflops())\n",
    "    loss_fn = nn.CrossEntropyLoss() # no need to softmax as CrossEntropyLoss works on raw logits\n",
    "    optimizer = torch.optim.Adam(model.parameters(), lr=learning_rate)\n",
    "    for t in range(num_epochs):\n",
    "        print(f\"\\nEpoch {t+1}\\n-------------------------------\")\n",
    "        train_duration = train_one_epoch(transform2_train_dataloader, model, loss_fn, optimizer, t)\n",
    "        evaluate(transform2_train_dataloader, \"Train\", model, loss_fn, t)\n",
    "\n",
    "    # log the test accuracy and FLOPs of the trained model\n",
    "    transform2_accuracy, transform2_avg_infer = new_evaluate(transform2_test_dataloader, \"Test\", model, loss_fn)\n",
    "    transform2_Acc_arr.append(transform2_accuracy)\n",
    "    transform2_Latency_arr.append(transform2_avg_infer)"
   ]
  },
  {
   "cell_type": "code",
   "execution_count": 106,
   "metadata": {},
   "outputs": [
    {
     "data": {
      "text/plain": [
       "Text(0.5, 1.0, 'Acccuracy vs FLOPs')"
      ]
     },
     "execution_count": 106,
     "metadata": {},
     "output_type": "execute_result"
    },
    {
     "data": {
      "image/png": "[encoded data removed]",
      "text/plain": [
       "<Figure size 640x480 with 1 Axes>"
      ]
     },
     "metadata": {},
     "output_type": "display_data"
    }
   ],
   "source": [
    "plt.scatter(transform2_FLOP_arr, transform2_Acc_arr)\n",
    "plt.xlabel('FLOPs')\n",
    "plt.ylabel('Test Accuracy (%)')\n",
    "plt.title('Acccuracy vs FLOPs')"
   ]
  },
  {
   "cell_type": "markdown",
   "metadata": {},
   "source": [
    "When cropping the image to the center 14 x 14 pixels, enough information is preserved about the digits to enable the classifer to distinguish them. That means most of the features are captured in the middle of the image. What is surprising is that the performance worsens significantly more when more hidden layers are added."
   ]
  },
  {
   "cell_type": "code",
   "execution_count": 107,
   "metadata": {},
   "outputs": [
    {
     "data": {
      "text/plain": [
       "Text(0.5, 1.0, 'Latency vs FLOPs')"
      ]
     },
     "execution_count": 107,
     "metadata": {},
     "output_type": "execute_result"
    },
    {
     "data": {
      "image/png": "[encoded data removed]",
      "text/plain": [
       "<Figure size 640x480 with 1 Axes>"
      ]
     },
     "metadata": {},
     "output_type": "display_data"
    }
   ],
   "source": [
    "# plot latency vs FLOPs\n",
    "plt.scatter(transform2_FLOP_arr, transform2_Latency_arr)\n",
    "plt.xlabel('FLOPs')\n",
    "plt.ylabel('Latency (s)')\n",
    "plt.title('Latency vs FLOPs')"
   ]
  },
  {
   "cell_type": "markdown",
   "metadata": {},
   "source": [
    "A linear relationship between FLOPs and latency is preserved"
   ]
  },
  {
   "cell_type": "code",
   "execution_count": 108,
   "metadata": {},
   "outputs": [
    {
     "data": {
      "text/plain": [
       "Text(0.5, 1.0, 'Accuracy vs Latency')"
      ]
     },
     "execution_count": 108,
     "metadata": {},
     "output_type": "execute_result"
    },
    {
     "data": {
      "image/png": "[encoded data removed]",
      "text/plain": [
       "<Figure size 640x480 with 1 Axes>"
      ]
     },
     "metadata": {},
     "output_type": "display_data"
    }
   ],
   "source": [
    "# plot accuracy vs latency\n",
    "plt.scatter(transform2_Latency_arr, transform2_Acc_arr)\n",
    "plt.ylabel('Test Accuracy (%)')\n",
    "plt.xlabel('Latency (s)')\n",
    "plt.title('Accuracy vs Latency')"
   ]
  },
  {
   "cell_type": "markdown",
   "metadata": {},
   "source": [
    "The model when cropping the original size image to the center 14 x 14 pixels performs slightly worse than resizing the orignal image to the same dimensions, given the high accuracy. "
   ]
  },
  {
   "cell_type": "markdown",
   "metadata": {},
   "source": [
    "Q3.10 Putting it all together \n",
    "\n",
    "\n",
    "Building a minimally complex model to achieve >90% accuracy is the general direction to head in. Q3.6 shows that a network with one hidden layer, albeit with 1024 neurons, is sufficiently complex to capture the data.\n",
    "The findings from Q3.7 that inform a minimum hidden size around 8 producs reasonably high accuracy for how few trainable parameters the model has. Most of the images' information is preserved when resizing the image to 50% of its original dimensions that effectively is a convolutional operation that does an average pooling with a sharpening kernel that preserves edges compared to cropping. Using 1 hidden layer and a hidden size size around 8 but less than 1024 will be tested. \n",
    "\n",
    "To do this, two sets of experiments corresponding to the first transformation which resizes images to half the original and a new transformation that maps it to just over a quarter of the original.\n",
    "\n",
    "Varying hidden sizes will be tested in the list [4, 8, 64, 256] to find what value leads to the an accuracy of >90%. The result from a hidden size of 8 has been cached and can be supplied in the first set of experiments but needs to be done again for the second set. These sets will be plotted on the same axes with different colors to show the type of input data."
   ]
  },
  {
   "cell_type": "code",
   "execution_count": 101,
   "metadata": {},
   "outputs": [],
   "source": [
    "def get_small_data(batch_size):\n",
    "    transform_mnist = T.Compose([\n",
    "        T.ToTensor(), \n",
    "        T.Resize(min(8, 8), antialias=True),\n",
    "        T.Normalize(mean=[0], std=[1]) # Normalize to 0 mean and 1 std\n",
    "        ])\n",
    "    train_data = CsvMNISTDataset(\n",
    "        csv_file='./mnist_data/mnist_train.csv',\n",
    "        transform=transform_mnist,\n",
    "    )\n",
    "    test_data = CsvMNISTDataset(\n",
    "        csv_file='./mnist_data/mnist_test.csv',\n",
    "        transform=transform_mnist,\n",
    "    )\n",
    "\n",
    "    train_dataloader = DataLoader(train_data, batch_size=batch_size)\n",
    "    test_dataloader = DataLoader(test_data, batch_size=batch_size)\n",
    "    \n",
    "    for X, y in train_dataloader:\n",
    "        print(f\"Shape of X [B, C, H, W]: {X.shape}\") # [batch_size, channels, dims]\n",
    "        print(f\"Shape of y: {y.shape} {y.dtype}\")\n",
    "        break\n",
    "    \n",
    "    return train_dataloader, test_dataloader"
   ]
  },
  {
   "cell_type": "code",
   "execution_count": 103,
   "metadata": {},
   "outputs": [
    {
     "name": "stdout",
     "output_type": "stream",
     "text": [
      "Shape of X [B, C, H, W]: torch.Size([64, 1, 8, 8])\n",
      "Shape of y: torch.Size([64]) torch.int64\n",
      "MNISTNetwork(\n",
      "  (flatten): Flatten(start_dim=1, end_dim=-1)\n",
      "  (sequential): Sequential(\n",
      "    (0): Linear(in_features=64, out_features=1024, bias=True)\n",
      "    (1): ReLU()\n",
      "    (2): Linear(in_features=1024, out_features=1024, bias=True)\n",
      "    (3): ReLU()\n",
      "    (4): Linear(in_features=1024, out_features=10, bias=True)\n",
      "  )\n",
      ")\n"
     ]
    },
    {
     "name": "stderr",
     "output_type": "stream",
     "text": [
      "C:\\Users\\joncc\\AppData\\Local\\Temp\\ipykernel_42744\\2121649383.py:11: FutureWarning: Series.__getitem__ treating keys as positions is deprecated. In a future version, integer keys will always be treated as labels (consistent with DataFrame behavior). To access a value by position, use `ser.iloc[pos]`\n",
      "  label = row[0] # first value is the class label\n"
     ]
    }
   ],
   "source": [
    "small_train_dataloader, small_test_dataloader = get_small_data(batch_size)\n",
    "small_model = MNISTNetwork(image_size=(8,8)).to(device)\n",
    "print(small_model)\n",
    "loss_fn = nn.CrossEntropyLoss() # no need to softmax as CrossEntropyLoss works on raw logits\n",
    "optimizer = torch.optim.Adam(small_model.parameters(), lr=learning_rate)"
   ]
  },
  {
   "cell_type": "code",
   "execution_count": 105,
   "metadata": {},
   "outputs": [
    {
     "name": "stdout",
     "output_type": "stream",
     "text": [
      "MNISTNetwork(\n",
      "  (flatten): Flatten(start_dim=1, end_dim=-1)\n",
      "  (sequential): Sequential(\n",
      "    (0): Linear(in_features=196, out_features=4, bias=True)\n",
      "    (1): ReLU()\n",
      "    (2): Linear(in_features=4, out_features=10, bias=True)\n",
      "  )\n",
      ")\n",
      "FLOPs: 153846\n",
      "\n",
      "Epoch 1\n",
      "-------------------------------\n",
      "Train loss = 0.036048  [   64/59999]\n"
     ]
    },
    {
     "name": "stderr",
     "output_type": "stream",
     "text": [
      "C:\\Users\\joncc\\AppData\\Local\\Temp\\ipykernel_42744\\2121649383.py:11: FutureWarning: Series.__getitem__ treating keys as positions is deprecated. In a future version, integer keys will always be treated as labels (consistent with DataFrame behavior). To access a value by position, use `ser.iloc[pos]`\n",
      "  label = row[0] # first value is the class label\n"
     ]
    },
    {
     "name": "stdout",
     "output_type": "stream",
     "text": [
      "Train loss = 0.025093  [32064/59999]\n",
      "Train accuracy = 58.4%, Train avg loss = 0.019590\n",
      "\n",
      "Epoch 2\n",
      "-------------------------------\n",
      "Train loss = 0.019998  [   64/59999]\n",
      "Train loss = 0.018610  [32064/59999]\n",
      "Train accuracy = 67.6%, Train avg loss = 0.015800\n",
      "Test accuracy = 67.3%, Test avg loss = 0.015767\n",
      "Average time per example classification: 6.155146636564329e-06 seconds\n",
      "MNISTNetwork(\n",
      "  (flatten): Flatten(start_dim=1, end_dim=-1)\n",
      "  (sequential): Sequential(\n",
      "    (0): Linear(in_features=196, out_features=8, bias=True)\n",
      "    (1): ReLU()\n",
      "    (2): Linear(in_features=8, out_features=10, bias=True)\n",
      "  )\n",
      ")\n",
      "FLOPs: 308002\n",
      "\n",
      "Epoch 1\n",
      "-------------------------------\n",
      "Train loss = 0.036158  [   64/59999]\n",
      "Train loss = 0.012329  [32064/59999]\n",
      "Train accuracy = 84.6%, Train avg loss = 0.008672\n",
      "\n",
      "Epoch 2\n",
      "-------------------------------\n",
      "Train loss = 0.009825  [   64/59999]\n",
      "Train loss = 0.007298  [32064/59999]\n",
      "Train accuracy = 88.1%, Train avg loss = 0.006539\n",
      "Test accuracy = 88.5%, Test avg loss = 0.006391\n",
      "Average time per example classification: 6.956366235672865e-06 seconds\n",
      "MNISTNetwork(\n",
      "  (flatten): Flatten(start_dim=1, end_dim=-1)\n",
      "  (sequential): Sequential(\n",
      "    (0): Linear(in_features=196, out_features=64, bias=True)\n",
      "    (1): ReLU()\n",
      "    (2): Linear(in_features=64, out_features=10, bias=True)\n",
      "  )\n",
      ")\n",
      "FLOPs: 2499786\n",
      "\n",
      "Epoch 1\n",
      "-------------------------------\n",
      "Train loss = 0.036144  [   64/59999]\n",
      "Train loss = 0.006399  [32064/59999]\n",
      "Train accuracy = 90.5%, Train avg loss = 0.005132\n",
      "\n",
      "Epoch 2\n",
      "-------------------------------\n",
      "Train loss = 0.004626  [   64/59999]\n",
      "Train loss = 0.005222  [32064/59999]\n",
      "Train accuracy = 92.6%, Train avg loss = 0.003991\n",
      "Test accuracy = 92.7%, Test avg loss = 0.003895\n",
      "Average time per example classification: 7.858016727103367e-06 seconds\n",
      "MNISTNetwork(\n",
      "  (flatten): Flatten(start_dim=1, end_dim=-1)\n",
      "  (sequential): Sequential(\n",
      "    (0): Linear(in_features=196, out_features=256, bias=True)\n",
      "    (1): ReLU()\n",
      "    (2): Linear(in_features=256, out_features=10, bias=True)\n",
      "  )\n",
      ")\n",
      "FLOPs: 10490634\n",
      "\n",
      "Epoch 1\n",
      "-------------------------------\n",
      "Train loss = 0.036093  [   64/59999]\n",
      "Train loss = 0.005463  [32064/59999]\n",
      "Train accuracy = 92.6%, Train avg loss = 0.003929\n",
      "\n",
      "Epoch 2\n",
      "-------------------------------\n",
      "Train loss = 0.003073  [   64/59999]\n",
      "Train loss = 0.004465  [32064/59999]\n",
      "Train accuracy = 94.8%, Train avg loss = 0.002743\n",
      "Test accuracy = 95.0%, Test avg loss = 0.002696\n",
      "Average time per example classification: 1.0254897097878268e-05 seconds\n",
      "MNISTNetwork(\n",
      "  (flatten): Flatten(start_dim=1, end_dim=-1)\n",
      "  (sequential): Sequential(\n",
      "    (0): Linear(in_features=64, out_features=4, bias=True)\n",
      "    (1): ReLU()\n",
      "    (2): Linear(in_features=4, out_features=10, bias=True)\n",
      "  )\n",
      ")\n",
      "FLOPs: 16566\n",
      "\n",
      "Epoch 1\n",
      "-------------------------------\n",
      "Train loss = 0.037062  [   64/59999]\n",
      "Train loss = 0.026871  [32064/59999]\n",
      "Train accuracy = 63.5%, Train avg loss = 0.019617\n",
      "\n",
      "Epoch 2\n",
      "-------------------------------\n",
      "Train loss = 0.020408  [   64/59999]\n",
      "Train loss = 0.016728  [32064/59999]\n",
      "Train accuracy = 71.2%, Train avg loss = 0.014486\n",
      "Test accuracy = 71.8%, Test avg loss = 0.014246\n",
      "Average time per example classification: 5.090167202910242e-06 seconds\n",
      "MNISTNetwork(\n",
      "  (flatten): Flatten(start_dim=1, end_dim=-1)\n",
      "  (sequential): Sequential(\n",
      "    (0): Linear(in_features=64, out_features=8, bias=True)\n",
      "    (1): ReLU()\n",
      "    (2): Linear(in_features=8, out_features=10, bias=True)\n",
      "  )\n",
      ")\n",
      "FLOPs: 33442\n",
      "\n",
      "Epoch 1\n",
      "-------------------------------\n",
      "Train loss = 0.036206  [   64/59999]\n",
      "Train loss = 0.020602  [32064/59999]\n",
      "Train accuracy = 77.3%, Train avg loss = 0.013344\n",
      "\n",
      "Epoch 2\n",
      "-------------------------------\n",
      "Train loss = 0.014062  [   64/59999]\n",
      "Train loss = 0.009423  [32064/59999]\n",
      "Train accuracy = 83.9%, Train avg loss = 0.008814\n",
      "Test accuracy = 84.5%, Test avg loss = 0.008512\n",
      "Average time per example classification: 5.852871926069882e-06 seconds\n",
      "MNISTNetwork(\n",
      "  (flatten): Flatten(start_dim=1, end_dim=-1)\n",
      "  (sequential): Sequential(\n",
      "    (0): Linear(in_features=64, out_features=64, bias=True)\n",
      "    (1): ReLU()\n",
      "    (2): Linear(in_features=64, out_features=10, bias=True)\n",
      "  )\n",
      ")\n",
      "FLOPs: 303306\n",
      "\n",
      "Epoch 1\n",
      "-------------------------------\n",
      "Train loss = 0.035950  [   64/59999]\n",
      "Train loss = 0.009018  [32064/59999]\n",
      "Train accuracy = 87.2%, Train avg loss = 0.006973\n",
      "\n",
      "Epoch 2\n",
      "-------------------------------\n",
      "Train loss = 0.007104  [   64/59999]\n",
      "Train loss = 0.006364  [32064/59999]\n",
      "Train accuracy = 89.4%, Train avg loss = 0.005543\n",
      "Test accuracy = 89.9%, Test avg loss = 0.005386\n",
      "Average time per example classification: 9.36680345954918e-06 seconds\n",
      "MNISTNetwork(\n",
      "  (flatten): Flatten(start_dim=1, end_dim=-1)\n",
      "  (sequential): Sequential(\n",
      "    (0): Linear(in_features=64, out_features=256, bias=True)\n",
      "    (1): ReLU()\n",
      "    (2): Linear(in_features=256, out_features=10, bias=True)\n",
      "  )\n",
      ")\n",
      "FLOPs: 1704714\n",
      "\n",
      "Epoch 1\n",
      "-------------------------------\n",
      "Train loss = 0.035961  [   64/59999]\n",
      "Train loss = 0.006405  [32064/59999]\n",
      "Train accuracy = 89.2%, Train avg loss = 0.005547\n",
      "\n",
      "Epoch 2\n",
      "-------------------------------\n",
      "Train loss = 0.005008  [   64/59999]\n",
      "Train loss = 0.004820  [32064/59999]\n",
      "Train accuracy = 91.6%, Train avg loss = 0.004294\n",
      "Test accuracy = 91.9%, Test avg loss = 0.004176\n",
      "Average time per example classification: 8.88467290110681e-06 seconds\n"
     ]
    }
   ],
   "source": [
    "resize_config = [1,2]\n",
    "hid_widths = [4, 8, 64, 256]\n",
    "small_FLOP_arr = []\n",
    "small_Acc_arr = []\n",
    "small_Latency_arr = []\n",
    "\n",
    "small2_FLOP_arr = []\n",
    "small2_Acc_arr = []\n",
    "small2_Latency_arr = []\n",
    "\n",
    "# log the configurations\n",
    "for nH in hid_widths:\n",
    "    model = MNISTNetwork(image_size=(14,14), hidden_layers=1, hidden_size=nH).to(device)\n",
    "    print(model)\n",
    "    small_FLOP_arr.append(model.countflops())\n",
    "    loss_fn = nn.CrossEntropyLoss() # no need to softmax as CrossEntropyLoss works on raw logits\n",
    "    optimizer = torch.optim.Adam(model.parameters(), lr=learning_rate)\n",
    "    for t in range(num_epochs):\n",
    "        print(f\"\\nEpoch {t+1}\\n-------------------------------\")\n",
    "        train_duration = train_one_epoch(transform1_train_dataloader, model, loss_fn, optimizer, t)\n",
    "        evaluate(transform1_train_dataloader, \"Train\", model, loss_fn, t)\n",
    "    # log the test accuracy and FLOPs of the trained model\n",
    "    small_accuracy, small_avg_infer = new_evaluate(transform1_test_dataloader, \"Test\", model, loss_fn)\n",
    "    small_Acc_arr.append(small_accuracy)\n",
    "    small_Latency_arr.append(small_avg_infer)\n",
    "\n",
    "# try an 8 x 8 image size\n",
    "for nH in hid_widths:\n",
    "    model = MNISTNetwork(image_size=(8,8), hidden_layers=1, hidden_size=nH).to(device)\n",
    "    print(model)\n",
    "    small2_FLOP_arr.append(model.countflops())\n",
    "    loss_fn = nn.CrossEntropyLoss() # no need to softmax as CrossEntropyLoss works on raw logits\n",
    "    optimizer = torch.optim.Adam(model.parameters(), lr=learning_rate)\n",
    "    for t in range(num_epochs):\n",
    "        print(f\"\\nEpoch {t+1}\\n-------------------------------\")\n",
    "        train_duration = train_one_epoch(small_train_dataloader, model, loss_fn, optimizer, t)\n",
    "        evaluate(small_train_dataloader, \"Train\", model, loss_fn, t)\n",
    "    # log the test accuracy and FLOPs of the trained model\n",
    "    small_accuracy, small_avg_infer = new_evaluate(small_test_dataloader, \"Test\", model, loss_fn)\n",
    "    small2_Acc_arr.append(small_accuracy)\n",
    "    small2_Latency_arr.append(small_avg_infer)"
   ]
  },
  {
   "cell_type": "code",
   "execution_count": 114,
   "metadata": {},
   "outputs": [
    {
     "data": {
      "text/plain": [
       "Text(0.5, 1.0, 'Acccuracy vs FLOPs')"
      ]
     },
     "execution_count": 114,
     "metadata": {},
     "output_type": "execute_result"
    },
    {
     "data": {
      "image/png": "[encoded data removed]",
      "text/plain": [
       "<Figure size 640x480 with 1 Axes>"
      ]
     },
     "metadata": {},
     "output_type": "display_data"
    }
   ],
   "source": [
    "plt.scatter(small_FLOP_arr, small_Acc_arr, color = 'blue')\n",
    "plt.scatter(small2_FLOP_arr, small2_Acc_arr, color = 'red')\n",
    "plt.xlabel('FLOPs')\n",
    "plt.ylabel('Test Accuracy (%)')\n",
    "plt.title('Acccuracy vs FLOPs')"
   ]
  },
  {
   "cell_type": "markdown",
   "metadata": {},
   "source": [
    "From the study, the 4th red point from the left, where the next improvment by 2-3% is at triple the computational expense. This indicates that a single layer of hidden size 256 for an original 28 x 28 image shrunk down to an 8 x 8 image is sufficient to achieve the specified accuracy goal.\n",
    "\n",
    "Another notable datapoint is the 3rd blue point from the left that also exceeds a 90% accuracy but has ~25% more computations for <1% increase in accuracy."
   ]
  },
  {
   "cell_type": "code",
   "execution_count": 110,
   "metadata": {},
   "outputs": [
    {
     "data": {
      "text/plain": [
       "Text(0.5, 1.0, 'Latency vs FLOPs')"
      ]
     },
     "execution_count": 110,
     "metadata": {},
     "output_type": "execute_result"
    },
    {
     "data": {
      "image/png": "[encoded data removed]",
      "text/plain": [
       "<Figure size 640x480 with 1 Axes>"
      ]
     },
     "metadata": {},
     "output_type": "display_data"
    }
   ],
   "source": [
    "# plot latency vs FLOPs\n",
    "plt.scatter(small_FLOP_arr, small_Latency_arr, color = 'blue')\n",
    "plt.scatter(small2_FLOP_arr, small2_Latency_arr, color = 'red')\n",
    "plt.xlabel('FLOPs')\n",
    "plt.ylabel('Latency (s)')\n",
    "plt.title('Latency vs FLOPs')"
   ]
  },
  {
   "cell_type": "markdown",
   "metadata": {},
   "source": [
    "Tracking the 4th red point from the left and the 3rd blue point from the left, if speed needs to be optimized, the blue model computed faster for some reason. This indicates that though the number of flops might be similar in the previous plot, the types of computation can introduce lag. In this case, the 8 x 8 image size variant with quadruple the hidden size takes longer to propagate through, indicating that PyTorch is slower at computing through wide networks than skinnier ones.\n",
    "\n",
    "The 3rd red point from the right is an outlier, possibly due to a sudden spike in CPU demand or clock limiting mid-training (the 3rd red point is the seventh out of eight models trained) that inflated the inference time. This could be attributed to thermals, as too high temperatures achieved after training for a while can cause the laptop to throttle its CPU.\n",
    "\n",
    "Another explanation would be the number of trainable parameters, where the model corresponding to the 4th red point has (8x8+1)x(256)+(256+1)x10 = 19210 whereas the 3rd blue point has (14x14+1)x(64)+(64+1)x10 = 13258 parameters, indicating that the 3rd blue point should take less time to compute."
   ]
  },
  {
   "cell_type": "code",
   "execution_count": 113,
   "metadata": {},
   "outputs": [
    {
     "data": {
      "text/plain": [
       "Text(0.5, 1.0, 'Accuracy vs Latency')"
      ]
     },
     "execution_count": 113,
     "metadata": {},
     "output_type": "execute_result"
    },
    {
     "data": {
      "image/png": "[encoded data removed]",
      "text/plain": [
       "<Figure size 640x480 with 1 Axes>"
      ]
     },
     "metadata": {},
     "output_type": "display_data"
    }
   ],
   "source": [
    "# plot accuracy vs latency\n",
    "plt.scatter(small_Latency_arr, small_Acc_arr, color = 'blue')\n",
    "plt.scatter(small2_Latency_arr, small2_Acc_arr, color = 'red')\n",
    "plt.ylabel('Test Accuracy (%)')\n",
    "plt.xlabel('Latency (s)')\n",
    "plt.title('Accuracy vs Latency')"
   ]
  },
  {
   "cell_type": "markdown",
   "metadata": {},
   "source": [
    "If the latency is prioritized, the 3rd blue point from the left is ~12% faster than the next best performer, which is the 3rd red point from the left. This point is identical to the 4th red point from the left in the Accuracy vs FLOPs plot, due to the anomaly observed in the Latency vs FLOPs plot above that was explained."
   ]
  },
  {
   "cell_type": "markdown",
   "metadata": {},
   "source": [
    "Final Results\n",
    "\n",
    "The configuration with an scaled input size of (8,8), hidden size of 256, and 1 hidden layer performed the best for how few FLOPs were required. If inference speed and lowering the number of parameters to train is key, then the configuration with a scaled input size of (14,14), hidden size of 64, and 1 hiddne layer performed the best for how much time is alloted per inference.\n",
    "\n",
    "Trend-wise, the variation of input size does not affect the performance much, as above 90% accuracy can be achieved with all three sizes (28 x 28), (14 x 14), and (8 x 8). More hidden layers does not help as the features in handwritten digits are simple and can be \"understood\" by the machine in one layer, given sufficient hidden size. The largest contributor to accuracy is the width of the hidden layer, which was found to be between 64 and 256 if the image is compressed. A larger model size as indicated in the model parameter comparison of the red and blue points generally leads to better performance, though the accuracy will plateau. In the left region of the graph, the trend is particularly observable. In terms of efficiency metrics, the number of FLOPs does not always correspond to the inference time, as the two models discussed in the Latency vs FLOPs plot indicate that smaller models do not always compute faster due to the ratio between additive and multiplicative floating point arithmetic."
   ]
  }
 ],
 "metadata": {
  "kernelspec": {
   "display_name": "py32",
   "language": "python",
   "name": "python3"
  },
  "language_info": {
   "codemirror_mode": {
    "name": "ipython",
    "version": 3
   },
   "file_extension": ".py",
   "mimetype": "text/x-python",
   "name": "python",
   "nbconvert_exporter": "python",
   "pygments_lexer": "ipython3",
   "version": "3.11.9"
  }
 },
 "nbformat": 4,
 "nbformat_minor": 2
}
