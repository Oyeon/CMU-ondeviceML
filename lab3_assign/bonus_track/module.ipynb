{
  "nbformat": 4,
  "nbformat_minor": 0,
  "metadata": {
    "colab": {
      "provenance": []
    },
    "kernelspec": {
      "name": "python3",
      "display_name": "Python 3"
    },
    "language_info": {
      "name": "python"
    }
  },
  "cells": [
    {
      "cell_type": "code",
      "execution_count": null,
      "metadata": {
        "id": "agc0SCPDxmz3"
      },
      "outputs": [],
      "source": [
        "import numpy as np\n",
        "import torch\n",
        "import torch.nn as nn\n",
        "import torchvision\n",
        "from torchvision import models, datasets\n",
        "import torchvision.transforms as transforms\n",
        "import os\n",
        "import torch.quantization\n",
        "import torch.quantization._numeric_suite as ns\n",
        "from torch.quantization import (\n",
        "    default_eval_fn,\n",
        "    default_qconfig,\n",
        "    quantize,\n",
        ")"
      ]
    },
    {
      "cell_type": "code",
      "source": [
        "# !pip install ultralytics"
      ],
      "metadata": {
        "id": "mVqCug40Vl2l"
      },
      "execution_count": null,
      "outputs": []
    },
    {
      "cell_type": "code",
      "source": [
        "from ultralytics import YOLO"
      ],
      "metadata": {
        "id": "KNo_MZEGVlAd"
      },
      "execution_count": null,
      "outputs": []
    },
    {
      "cell_type": "code",
      "source": [
        "model_origin = YOLO('./models/best.pt')"
      ],
      "metadata": {
        "id": "AXNbMQDFVtrc"
      },
      "execution_count": null,
      "outputs": []
    },
    {
      "cell_type": "code",
      "source": [
        "# model_origin_quant = YOLO('./models/best_quantized.pt')\n",
        "checkpoint = torch.load('./models/best_quantized.pt')\n"
      ],
      "metadata": {
        "id": "jjeBvjtfV1Uc"
      },
      "execution_count": null,
      "outputs": []
    },
    {
      "cell_type": "code",
      "source": [
        "# model_origin.state_dict()"
      ],
      "metadata": {
        "id": "eKTIrg__WnXK"
      },
      "execution_count": null,
      "outputs": []
    },
    {
      "cell_type": "code",
      "source": [
        "checkpoint.state_dict()"
      ],
      "metadata": {
        "colab": {
          "base_uri": "https://localhost:8080/",
          "height": 141
        },
        "id": "8b38dNscWm-g",
        "outputId": "d6ed884e-8802-463c-c69e-3276547b40fa"
      },
      "execution_count": null,
      "outputs": [
        {
          "output_type": "error",
          "ename": "AttributeError",
          "evalue": "'collections.OrderedDict' object has no attribute 'state_dict'",
          "traceback": [
            "\u001b[0;31m---------------------------------------------------------------------------\u001b[0m",
            "\u001b[0;31mAttributeError\u001b[0m                            Traceback (most recent call last)",
            "\u001b[0;32m<ipython-input-8-e923833c364e>\u001b[0m in \u001b[0;36m<cell line: 1>\u001b[0;34m()\u001b[0m\n\u001b[0;32m----> 1\u001b[0;31m \u001b[0mcheckpoint\u001b[0m\u001b[0;34m.\u001b[0m\u001b[0mstate_dict\u001b[0m\u001b[0;34m(\u001b[0m\u001b[0;34m)\u001b[0m\u001b[0;34m\u001b[0m\u001b[0;34m\u001b[0m\u001b[0m\n\u001b[0m",
            "\u001b[0;31mAttributeError\u001b[0m: 'collections.OrderedDict' object has no attribute 'state_dict'"
          ]
        }
      ]
    },
    {
      "cell_type": "code",
      "source": [
        "# float_model = torchvision.models.quantization.resnet18(weights=models.ResNet18_Weights.IMAGENET1K_V1, quantize=False)\n",
        "# float_model.to('cpu')\n",
        "# float_model.eval()\n",
        "# float_model.fuse_model()\n",
        "# float_model.qconfig = torch.quantization.default_qconfig\n",
        "# img_data = [(torch.rand(2, 3, 10, 10, dtype=torch.float), torch.randint(0, 1, (2,), dtype=torch.long)) for _ in range(2)]\n",
        "# qmodel = quantize(float_model, default_eval_fn, [img_data], inplace=False)\n",
        "\n",
        "\n"
      ],
      "metadata": {
        "colab": {
          "base_uri": "https://localhost:8080/"
        },
        "id": "TzlSz34uxwc7",
        "outputId": "62211182-7df2-40a9-bb41-684b0d80da45"
      },
      "execution_count": null,
      "outputs": [
        {
          "output_type": "stream",
          "name": "stderr",
          "text": [
            "Downloading: \"https://download.pytorch.org/models/resnet18-f37072fd.pth\" to /root/.cache/torch/hub/checkpoints/resnet18-f37072fd.pth\n",
            "100%|██████████| 44.7M/44.7M [00:01<00:00, 40.6MB/s]\n"
          ]
        }
      ]
    },
    {
      "cell_type": "code",
      "source": [
        "wt_compare_dict = ns.compare_weights(float_model.state_dict(), qmodel.state_dict())\n",
        "\n",
        "print('keys of wt_compare_dict:')\n",
        "print(wt_compare_dict.keys())\n",
        "\n",
        "print(\"\\nkeys of wt_compare_dict entry for conv1's weight:\")\n",
        "print(wt_compare_dict['conv1.weight'].keys())\n",
        "print(wt_compare_dict['conv1.weight']['float'].shape)\n",
        "print(wt_compare_dict['conv1.weight']['quantized'].shape)"
      ],
      "metadata": {
        "colab": {
          "base_uri": "https://localhost:8080/"
        },
        "id": "9lq1u0AHxx-d",
        "outputId": "bf31c450-7955-4717-d30e-aca82146b3f8"
      },
      "execution_count": null,
      "outputs": [
        {
          "output_type": "stream",
          "name": "stdout",
          "text": [
            "keys of wt_compare_dict:\n",
            "dict_keys(['conv1.weight', 'layer1.0.conv1.weight', 'layer1.0.conv2.weight', 'layer1.1.conv1.weight', 'layer1.1.conv2.weight', 'layer2.0.conv1.weight', 'layer2.0.conv2.weight', 'layer2.0.downsample.0.weight', 'layer2.1.conv1.weight', 'layer2.1.conv2.weight', 'layer3.0.conv1.weight', 'layer3.0.conv2.weight', 'layer3.0.downsample.0.weight', 'layer3.1.conv1.weight', 'layer3.1.conv2.weight', 'layer4.0.conv1.weight', 'layer4.0.conv2.weight', 'layer4.0.downsample.0.weight', 'layer4.1.conv1.weight', 'layer4.1.conv2.weight', 'fc._packed_params._packed_params'])\n",
            "\n",
            "keys of wt_compare_dict entry for conv1's weight:\n",
            "dict_keys(['float', 'quantized'])\n",
            "torch.Size([64, 3, 7, 7])\n",
            "torch.Size([64, 3, 7, 7])\n"
          ]
        }
      ]
    },
    {
      "cell_type": "code",
      "source": [
        "def compute_error(x, y):\n",
        "    Ps = torch.norm(x)\n",
        "    Pn = torch.norm(x-y)\n",
        "    return 20*torch.log10(Ps/Pn)\n",
        "\n",
        "for key in wt_compare_dict:\n",
        "    print(key, compute_error(wt_compare_dict[key]['float'], wt_compare_dict[key]['quantized'].dequantize()))"
      ],
      "metadata": {
        "colab": {
          "base_uri": "https://localhost:8080/"
        },
        "id": "RZtjMqIwxygq",
        "outputId": "225c1505-87e6-4e19-9860-79de474915eb"
      },
      "execution_count": null,
      "outputs": [
        {
          "output_type": "stream",
          "name": "stdout",
          "text": [
            "conv1.weight tensor(31.6638)\n",
            "layer1.0.conv1.weight tensor(30.6450)\n",
            "layer1.0.conv2.weight tensor(31.1528)\n",
            "layer1.1.conv1.weight tensor(32.1438)\n",
            "layer1.1.conv2.weight tensor(31.2477)\n",
            "layer2.0.conv1.weight tensor(30.9890)\n",
            "layer2.0.conv2.weight tensor(28.8233)\n",
            "layer2.0.downsample.0.weight tensor(31.5558)\n",
            "layer2.1.conv1.weight tensor(30.7668)\n",
            "layer2.1.conv2.weight tensor(28.4516)\n",
            "layer3.0.conv1.weight tensor(30.9247)\n",
            "layer3.0.conv2.weight tensor(26.6841)\n",
            "layer3.0.downsample.0.weight tensor(28.7825)\n",
            "layer3.1.conv1.weight tensor(28.9707)\n",
            "layer3.1.conv2.weight tensor(25.6784)\n",
            "layer4.0.conv1.weight tensor(26.8495)\n",
            "layer4.0.conv2.weight tensor(25.8394)\n",
            "layer4.0.downsample.0.weight tensor(28.6355)\n",
            "layer4.1.conv1.weight tensor(26.8758)\n",
            "layer4.1.conv2.weight tensor(28.4319)\n",
            "fc._packed_params._packed_params tensor(32.6505)\n"
          ]
        }
      ]
    },
    {
      "cell_type": "code",
      "source": [
        "import matplotlib.pyplot as plt\n",
        "\n",
        "f = wt_compare_dict['conv1.weight']['float'].flatten()\n",
        "plt.hist(f, bins = 100)\n",
        "plt.title(\"Floating point model weights of conv1\")\n",
        "# plt.show()\n",
        "\n",
        "q = wt_compare_dict['conv1.weight']['quantized'].flatten().dequantize()\n",
        "plt.hist(q, bins = 100)\n",
        "plt.title(\"Quantized model weights of conv1\")\n",
        "plt.show()"
      ],
      "metadata": {
        "colab": {
          "base_uri": "https://localhost:8080/",
          "height": 452
        },
        "id": "S_jkIeR8xynZ",
        "outputId": "dd0c66c7-8c98-47c5-dc7d-7caeba64e995"
      },
      "execution_count": null,
      "outputs": [
        {
          "output_type": "display_data",
          "data": {
            "text/plain": [
              "<Figure size 640x480 with 1 Axes>"
            ],
            "image/png": "[encoded data removed]"
          },
          "metadata": {}
        }
      ]
    },
    {
      "cell_type": "code",
      "source": [
        "data = img_data[0][0]\n",
        "\n",
        "# Take in floating point and quantized model as well as input data, and returns a dict, with keys\n",
        "# corresponding to the quantized module names and each entry being a dictionary with two keys 'float' and\n",
        "# 'quantized', containing the activations of floating point and quantized model at matching locations.\n",
        "act_compare_dict = ns.compare_model_outputs(float_model, qmodel, data)\n",
        "\n",
        "print('keys of act_compare_dict:')\n",
        "print(act_compare_dict.keys())\n",
        "\n",
        "print(\"\\nkeys of act_compare_dict entry for conv1's output:\")\n",
        "print(act_compare_dict['conv1.stats'].keys())\n",
        "print(act_compare_dict['conv1.stats']['float'][0].shape)\n",
        "print(act_compare_dict['conv1.stats']['quantized'][0].shape)"
      ],
      "metadata": {
        "colab": {
          "base_uri": "https://localhost:8080/"
        },
        "id": "jQqYnkRkxytz",
        "outputId": "dd2ddb68-89c7-4161-f385-ab6470c363c7"
      },
      "execution_count": null,
      "outputs": [
        {
          "output_type": "stream",
          "name": "stdout",
          "text": [
            "keys of act_compare_dict:\n",
            "dict_keys(['conv1.stats', 'layer1.0.conv1.stats', 'layer1.0.conv2.stats', 'layer1.0.add_relu.stats', 'layer1.1.conv1.stats', 'layer1.1.conv2.stats', 'layer1.1.add_relu.stats', 'layer2.0.conv1.stats', 'layer2.0.conv2.stats', 'layer2.0.downsample.0.stats', 'layer2.0.add_relu.stats', 'layer2.1.conv1.stats', 'layer2.1.conv2.stats', 'layer2.1.add_relu.stats', 'layer3.0.conv1.stats', 'layer3.0.conv2.stats', 'layer3.0.downsample.0.stats', 'layer3.0.add_relu.stats', 'layer3.1.conv1.stats', 'layer3.1.conv2.stats', 'layer3.1.add_relu.stats', 'layer4.0.conv1.stats', 'layer4.0.conv2.stats', 'layer4.0.downsample.0.stats', 'layer4.0.add_relu.stats', 'layer4.1.conv1.stats', 'layer4.1.conv2.stats', 'layer4.1.add_relu.stats', 'fc.stats', 'quant.stats'])\n",
            "\n",
            "keys of act_compare_dict entry for conv1's output:\n",
            "dict_keys(['float', 'quantized'])\n",
            "torch.Size([2, 64, 5, 5])\n",
            "torch.Size([2, 64, 5, 5])\n"
          ]
        }
      ]
    },
    {
      "cell_type": "code",
      "source": [
        "for key in act_compare_dict:\n",
        "    print(key, compute_error(act_compare_dict[key]['float'][0], act_compare_dict[key]['quantized'][0].dequantize()))"
      ],
      "metadata": {
        "colab": {
          "base_uri": "https://localhost:8080/"
        },
        "id": "5-jVMgKaxyxh",
        "outputId": "1d7b8d80-48c6-448a-b908-7a928a5fdece"
      },
      "execution_count": null,
      "outputs": [
        {
          "output_type": "stream",
          "name": "stdout",
          "text": [
            "conv1.stats tensor(37.3626, grad_fn=<MulBackward0>)\n",
            "layer1.0.conv1.stats tensor(29.9159, grad_fn=<MulBackward0>)\n",
            "layer1.0.conv2.stats tensor(28.6062, grad_fn=<MulBackward0>)\n",
            "layer1.0.add_relu.stats tensor(32.1350, grad_fn=<MulBackward0>)\n",
            "layer1.1.conv1.stats tensor(29.5786, grad_fn=<MulBackward0>)\n",
            "layer1.1.conv2.stats tensor(26.3322, grad_fn=<MulBackward0>)\n",
            "layer1.1.add_relu.stats tensor(29.8155, grad_fn=<MulBackward0>)\n",
            "layer2.0.conv1.stats tensor(26.5730, grad_fn=<MulBackward0>)\n",
            "layer2.0.conv2.stats tensor(26.5052, grad_fn=<MulBackward0>)\n",
            "layer2.0.downsample.0.stats tensor(22.7000, grad_fn=<MulBackward0>)\n",
            "layer2.0.add_relu.stats tensor(25.8668, grad_fn=<MulBackward0>)\n",
            "layer2.1.conv1.stats tensor(25.6072, grad_fn=<MulBackward0>)\n",
            "layer2.1.conv2.stats tensor(24.4478, grad_fn=<MulBackward0>)\n",
            "layer2.1.add_relu.stats tensor(26.0110, grad_fn=<MulBackward0>)\n",
            "layer3.0.conv1.stats tensor(26.9327, grad_fn=<MulBackward0>)\n",
            "layer3.0.conv2.stats tensor(26.8181, grad_fn=<MulBackward0>)\n",
            "layer3.0.downsample.0.stats tensor(25.3543, grad_fn=<MulBackward0>)\n",
            "layer3.0.add_relu.stats tensor(25.0631, grad_fn=<MulBackward0>)\n",
            "layer3.1.conv1.stats tensor(31.1638, grad_fn=<MulBackward0>)\n",
            "layer3.1.conv2.stats tensor(26.1931, grad_fn=<MulBackward0>)\n",
            "layer3.1.add_relu.stats tensor(25.2946, grad_fn=<MulBackward0>)\n",
            "layer4.0.conv1.stats tensor(26.6874, grad_fn=<MulBackward0>)\n",
            "layer4.0.conv2.stats tensor(26.3390, grad_fn=<MulBackward0>)\n",
            "layer4.0.downsample.0.stats tensor(21.9414, grad_fn=<MulBackward0>)\n",
            "layer4.0.add_relu.stats tensor(21.0578, grad_fn=<MulBackward0>)\n",
            "layer4.1.conv1.stats tensor(26.3075, grad_fn=<MulBackward0>)\n",
            "layer4.1.conv2.stats tensor(18.1614, grad_fn=<MulBackward0>)\n",
            "layer4.1.add_relu.stats tensor(19.0037, grad_fn=<MulBackward0>)\n",
            "fc.stats tensor(21.2890, grad_fn=<MulBackward0>)\n",
            "quant.stats tensor(47.8704)\n"
          ]
        }
      ]
    },
    {
      "cell_type": "code",
      "source": [
        "ns.prepare_model_outputs(float_model, qmodel)\n",
        "\n",
        "for data in img_data:\n",
        "    float_model(data[0])\n",
        "    qmodel(data[0])\n",
        "\n",
        "# Find the matching activation between floating point and quantized modules, and return a dict with key\n",
        "# corresponding to quantized module names and each entry being a dictionary with two keys 'float'\n",
        "# and 'quantized', containing the matching floating point and quantized activations logged by the logger\n",
        "act_compare_dict = ns.get_matching_activations(float_model, qmodel)"
      ],
      "metadata": {
        "id": "EsNW8gdzxy0J"
      },
      "execution_count": null,
      "outputs": []
    },
    {
      "cell_type": "code",
      "source": [
        "class MyOutputLogger(ns.Logger):\n",
        "    r\"\"\"Customized logger class\n",
        "    \"\"\"\n",
        "\n",
        "    def __init__(self):\n",
        "        super(MyOutputLogger, self).__init__()\n",
        "\n",
        "    def forward(self, x):\n",
        "        # Custom functionalities\n",
        "        # ...\n",
        "        return x"
      ],
      "metadata": {
        "id": "yPVV1Kqzxy2j"
      },
      "execution_count": null,
      "outputs": []
    },
    {
      "cell_type": "code",
      "source": [
        "data = img_data[0][0]\n",
        "act_compare_dict = ns.compare_model_outputs(float_model, qmodel, data, logger_cls=MyOutputLogger)"
      ],
      "metadata": {
        "id": "ZZ6iqqzdBpRS"
      },
      "execution_count": null,
      "outputs": []
    },
    {
      "cell_type": "code",
      "source": [
        "float_model = torchvision.models.quantization.resnet18(weights=models.ResNet18_Weights.IMAGENET1K_V1, quantize=False)\n",
        "float_model.to('cpu')\n",
        "float_model.eval()\n",
        "float_model.fuse_model()\n",
        "float_model.qconfig = torch.quantization.default_qconfig\n",
        "img_data = [(torch.rand(2, 3, 10, 10, dtype=torch.float), torch.randint(0, 1, (2,), dtype=torch.long)) for _ in range(2)]\n",
        "qmodel = quantize(float_model, default_eval_fn, [img_data], inplace=False)"
      ],
      "metadata": {
        "id": "uhNSDBOgBqmB"
      },
      "execution_count": null,
      "outputs": []
    },
    {
      "cell_type": "code",
      "source": [
        "data = img_data[0][0]\n",
        "module_swap_list = [torchvision.models.quantization.resnet.QuantizableBasicBlock]\n",
        "\n",
        "# Takes in floating point and quantized model as well as input data, and returns a dict with key\n",
        "# corresponding to module names and each entry being a dictionary with two keys 'float' and\n",
        "# 'quantized', containing the output tensors of quantized module and its matching floating point shadow module.\n",
        "ob_dict = ns.compare_model_stub(float_model, qmodel, module_swap_list, data)\n",
        "\n",
        "print('keys of ob_dict:')\n",
        "print(ob_dict.keys())\n",
        "\n",
        "print(\"\\nkeys of ob_dict entry for layer1.0's output:\")\n",
        "print(ob_dict['layer1.0.stats'].keys())\n",
        "print(ob_dict['layer1.0.stats']['float'][0].shape)\n",
        "print(ob_dict['layer1.0.stats']['quantized'][0].shape)"
      ],
      "metadata": {
        "colab": {
          "base_uri": "https://localhost:8080/"
        },
        "id": "WKML4lLaBwQt",
        "outputId": "3245077b-f062-48c6-ae1f-fa6dee503c0f"
      },
      "execution_count": null,
      "outputs": [
        {
          "output_type": "stream",
          "name": "stdout",
          "text": [
            "keys of ob_dict:\n",
            "dict_keys(['layer1.0.stats', 'layer1.1.stats', 'layer2.0.stats', 'layer2.1.stats', 'layer3.0.stats', 'layer3.1.stats', 'layer4.0.stats', 'layer4.1.stats'])\n",
            "\n",
            "keys of ob_dict entry for layer1.0's output:\n",
            "dict_keys(['float', 'quantized'])\n",
            "torch.Size([64, 3, 3])\n",
            "torch.Size([64, 3, 3])\n"
          ]
        }
      ]
    },
    {
      "cell_type": "code",
      "source": [
        "for key in ob_dict:\n",
        "    print(key, compute_error(ob_dict[key]['float'][0], ob_dict[key]['quantized'][0].dequantize()))"
      ],
      "metadata": {
        "colab": {
          "base_uri": "https://localhost:8080/"
        },
        "id": "m1A7vTSiByCL",
        "outputId": "836d8568-f84b-4648-fd19-50197b482fe7"
      },
      "execution_count": null,
      "outputs": [
        {
          "output_type": "stream",
          "name": "stdout",
          "text": [
            "layer1.0.stats tensor(32.8959)\n",
            "layer1.1.stats tensor(34.3619)\n",
            "layer2.0.stats tensor(28.7731)\n",
            "layer2.1.stats tensor(31.7963)\n",
            "layer3.0.stats tensor(28.5066)\n",
            "layer3.1.stats tensor(32.0265)\n",
            "layer4.0.stats tensor(25.6530)\n",
            "layer4.1.stats tensor(23.1788)\n"
          ]
        }
      ]
    },
    {
      "cell_type": "code",
      "source": [],
      "metadata": {
        "id": "yRpKqYQVB1Sf"
      },
      "execution_count": null,
      "outputs": []
    }
  ]
}